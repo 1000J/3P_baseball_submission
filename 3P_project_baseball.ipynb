{
 "cells": [
  {
   "cell_type": "markdown",
   "metadata": {},
   "source": [
    "For my project, I decided to use the baseball data provided by [Sean Lahman's baseball statistic website](http://www.seanlahman.com/baseball-archive/statistics/) to answer the following two questions. The latest archive files have been updated to 2016 season, and not 2014 as written in the project description.\n",
    "\n",
    "1. Are there any corrrelation between team salaries and total wins?\n",
    "2. What are the average age, height and weight and their distributions for all-star players?\n",
    "\n",
    "---\n"
   ]
  },
  {
   "cell_type": "markdown",
   "metadata": {},
   "source": [
    "### 1. Are there any corrrelation between team salaries and total wins?\n",
    "\n",
    "To answer this, I needed to use the Salaries.csv for salaries and Teams.csv for the wins for the teams.  Salary data has player salary and the team they were on since 1985, and the Team data has annual number of wins for the team since 1871.  \n",
    "\n",
    "First I wanted to check and understand the salary data, because there wasn't a description of what the data it is.  I was not sure whether the roster was from the beginning of the year, from all players that played for a team during that year, or from the end of the year.  Preferably, it is from the beginning or end of the year, which would show same number of players from the team.  If teams had different number of players, it would not be fair to compare teams with more players versus less players. "
   ]
  },
  {
   "cell_type": "code",
   "execution_count": 2,
   "metadata": {},
   "outputs": [
    {
     "name": "stdout",
     "output_type": "stream",
     "text": [
      "Populating the interactive namespace from numpy and matplotlib\n"
     ]
    }
   ],
   "source": [
    "import numpy as np\n",
    "import pandas as pd\n",
    "import matplotlib.pyplot as plt\n",
    "import datetime\n",
    "\n",
    "%pylab inline\n",
    "import seaborn as sns\n",
    "sns.set(style=\"whitegrid\", color_codes=True)"
   ]
  },
  {
   "cell_type": "code",
   "execution_count": 3,
   "metadata": {},
   "outputs": [
    {
     "data": {
      "text/html": [
       "<div>\n",
       "<style>\n",
       "    .dataframe thead tr:only-child th {\n",
       "        text-align: right;\n",
       "    }\n",
       "\n",
       "    .dataframe thead th {\n",
       "        text-align: left;\n",
       "    }\n",
       "\n",
       "    .dataframe tbody tr th {\n",
       "        vertical-align: top;\n",
       "    }\n",
       "</style>\n",
       "<table border=\"1\" class=\"dataframe\">\n",
       "  <thead>\n",
       "    <tr style=\"text-align: right;\">\n",
       "      <th></th>\n",
       "      <th>yearID</th>\n",
       "      <th>teamID</th>\n",
       "      <th>lgID</th>\n",
       "      <th>playerID</th>\n",
       "      <th>salary</th>\n",
       "    </tr>\n",
       "  </thead>\n",
       "  <tbody>\n",
       "    <tr>\n",
       "      <th>0</th>\n",
       "      <td>1985</td>\n",
       "      <td>ATL</td>\n",
       "      <td>NL</td>\n",
       "      <td>barkele01</td>\n",
       "      <td>870000</td>\n",
       "    </tr>\n",
       "    <tr>\n",
       "      <th>1</th>\n",
       "      <td>1985</td>\n",
       "      <td>ATL</td>\n",
       "      <td>NL</td>\n",
       "      <td>bedrost01</td>\n",
       "      <td>550000</td>\n",
       "    </tr>\n",
       "    <tr>\n",
       "      <th>2</th>\n",
       "      <td>1985</td>\n",
       "      <td>ATL</td>\n",
       "      <td>NL</td>\n",
       "      <td>benedbr01</td>\n",
       "      <td>545000</td>\n",
       "    </tr>\n",
       "    <tr>\n",
       "      <th>3</th>\n",
       "      <td>1985</td>\n",
       "      <td>ATL</td>\n",
       "      <td>NL</td>\n",
       "      <td>campri01</td>\n",
       "      <td>633333</td>\n",
       "    </tr>\n",
       "    <tr>\n",
       "      <th>4</th>\n",
       "      <td>1985</td>\n",
       "      <td>ATL</td>\n",
       "      <td>NL</td>\n",
       "      <td>ceronri01</td>\n",
       "      <td>625000</td>\n",
       "    </tr>\n",
       "  </tbody>\n",
       "</table>\n",
       "</div>"
      ],
      "text/plain": [
       "   yearID teamID lgID   playerID  salary\n",
       "0    1985    ATL   NL  barkele01  870000\n",
       "1    1985    ATL   NL  bedrost01  550000\n",
       "2    1985    ATL   NL  benedbr01  545000\n",
       "3    1985    ATL   NL   campri01  633333\n",
       "4    1985    ATL   NL  ceronri01  625000"
      ]
     },
     "execution_count": 3,
     "metadata": {},
     "output_type": "execute_result"
    }
   ],
   "source": [
    "salaries_df = pd.read_csv('Salaries.csv')\n",
    "salaries_df.head()"
   ]
  },
  {
   "cell_type": "markdown",
   "metadata": {},
   "source": [
    "*Looking at the total players in each team for 2016 season.*"
   ]
  },
  {
   "cell_type": "code",
   "execution_count": 4,
   "metadata": {},
   "outputs": [
    {
     "name": "stdout",
     "output_type": "stream",
     "text": [
      "        yearID  lgID  playerID  salary\n",
      "teamID                                \n",
      "ARI         26    26        26      26\n",
      "ATL         29    29        29      29\n",
      "BAL         29    29        29      29\n",
      "BOS         29    29        29      29\n",
      "CHC         29    29        29      29\n",
      "CHW         25    25        25      25\n",
      "CIN         29    29        29      29\n",
      "CLE         27    27        27      27\n",
      "COL         33    33        33      33\n",
      "DET         31    31        31      31\n",
      "HOU         28    28        28      28\n",
      "KCR         29    29        29      29\n",
      "LAA         26    26        26      26\n",
      "LAD         35    35        35      35\n",
      "MIA         28    28        28      28\n",
      "MIL         30    30        30      30\n",
      "MIN         24    24        24      24\n",
      "NYM         27    27        27      27\n",
      "NYY         29    29        29      29\n",
      "OAK         30    30        30      30\n",
      "PHI         29    29        29      29\n",
      "PIT         28    28        28      28\n",
      "SDP         27    27        27      27\n",
      "SEA         28    28        28      28\n",
      "SFG         25    25        25      25\n",
      "STL         31    31        31      31\n",
      "TBR         28    28        28      28\n",
      "TEX         29    29        29      29\n",
      "TOR         29    29        29      29\n",
      "WSN         26    26        26      26\n"
     ]
    }
   ],
   "source": [
    "print salaries_df[salaries_df.yearID==2016].groupby('teamID').count()"
   ]
  },
  {
   "cell_type": "markdown",
   "metadata": {},
   "source": [
    "Unfortunately, teams have different number of players on the team, which can result in unfair comparisons.  I decided to investigate further on the difference in the number of players for each team.  **The difference is due to each team having option to put players on the disabled list, and the roster is from the beginning of the season.**  I came to this conclusion by checking the team roster on the Salaries.csv to the published opening day team roster for several teams, and they matched.\n",
    "\n",
    "For example, the Dodgers have 35 players on the beginning of the season roster, but this includes 10 players on the disabled list.  On the other hand, Twins has 24 players, or one less than the 25-player on an opening day roster. This may be due to having an internation player (Byong Ho Park) on a team whose contract may not have finalized by the list was made.\n",
    "\n",
    "Overall, I was satisfied that the salary data is a good representation of the beginning of the season roster for each team since teams still have to pay players on the disabled list.  With that, I decided to continue on with the correlation analysis.\n",
    "\n",
    "Next, I read the Teams.csv data."
   ]
  },
  {
   "cell_type": "code",
   "execution_count": 5,
   "metadata": {
    "scrolled": true
   },
   "outputs": [
    {
     "data": {
      "text/html": [
       "<div>\n",
       "<style>\n",
       "    .dataframe thead tr:only-child th {\n",
       "        text-align: right;\n",
       "    }\n",
       "\n",
       "    .dataframe thead th {\n",
       "        text-align: left;\n",
       "    }\n",
       "\n",
       "    .dataframe tbody tr th {\n",
       "        vertical-align: top;\n",
       "    }\n",
       "</style>\n",
       "<table border=\"1\" class=\"dataframe\">\n",
       "  <thead>\n",
       "    <tr style=\"text-align: right;\">\n",
       "      <th></th>\n",
       "      <th>yearID</th>\n",
       "      <th>lgID</th>\n",
       "      <th>teamID</th>\n",
       "      <th>franchID</th>\n",
       "      <th>divID</th>\n",
       "      <th>Rank</th>\n",
       "      <th>G</th>\n",
       "      <th>Ghome</th>\n",
       "      <th>W</th>\n",
       "      <th>L</th>\n",
       "      <th>...</th>\n",
       "      <th>DP</th>\n",
       "      <th>FP</th>\n",
       "      <th>name</th>\n",
       "      <th>park</th>\n",
       "      <th>attendance</th>\n",
       "      <th>BPF</th>\n",
       "      <th>PPF</th>\n",
       "      <th>teamIDBR</th>\n",
       "      <th>teamIDlahman45</th>\n",
       "      <th>teamIDretro</th>\n",
       "    </tr>\n",
       "  </thead>\n",
       "  <tbody>\n",
       "    <tr>\n",
       "      <th>0</th>\n",
       "      <td>1871</td>\n",
       "      <td>NaN</td>\n",
       "      <td>BS1</td>\n",
       "      <td>BNA</td>\n",
       "      <td>NaN</td>\n",
       "      <td>3</td>\n",
       "      <td>31</td>\n",
       "      <td>NaN</td>\n",
       "      <td>20</td>\n",
       "      <td>10</td>\n",
       "      <td>...</td>\n",
       "      <td>NaN</td>\n",
       "      <td>0.838</td>\n",
       "      <td>Boston Red Stockings</td>\n",
       "      <td>South End Grounds I</td>\n",
       "      <td>NaN</td>\n",
       "      <td>103</td>\n",
       "      <td>98</td>\n",
       "      <td>BOS</td>\n",
       "      <td>BS1</td>\n",
       "      <td>BS1</td>\n",
       "    </tr>\n",
       "    <tr>\n",
       "      <th>1</th>\n",
       "      <td>1871</td>\n",
       "      <td>NaN</td>\n",
       "      <td>CH1</td>\n",
       "      <td>CNA</td>\n",
       "      <td>NaN</td>\n",
       "      <td>2</td>\n",
       "      <td>28</td>\n",
       "      <td>NaN</td>\n",
       "      <td>19</td>\n",
       "      <td>9</td>\n",
       "      <td>...</td>\n",
       "      <td>NaN</td>\n",
       "      <td>0.829</td>\n",
       "      <td>Chicago White Stockings</td>\n",
       "      <td>Union Base-Ball Grounds</td>\n",
       "      <td>NaN</td>\n",
       "      <td>104</td>\n",
       "      <td>102</td>\n",
       "      <td>CHI</td>\n",
       "      <td>CH1</td>\n",
       "      <td>CH1</td>\n",
       "    </tr>\n",
       "    <tr>\n",
       "      <th>2</th>\n",
       "      <td>1871</td>\n",
       "      <td>NaN</td>\n",
       "      <td>CL1</td>\n",
       "      <td>CFC</td>\n",
       "      <td>NaN</td>\n",
       "      <td>8</td>\n",
       "      <td>29</td>\n",
       "      <td>NaN</td>\n",
       "      <td>10</td>\n",
       "      <td>19</td>\n",
       "      <td>...</td>\n",
       "      <td>NaN</td>\n",
       "      <td>0.814</td>\n",
       "      <td>Cleveland Forest Citys</td>\n",
       "      <td>National Association Grounds</td>\n",
       "      <td>NaN</td>\n",
       "      <td>96</td>\n",
       "      <td>100</td>\n",
       "      <td>CLE</td>\n",
       "      <td>CL1</td>\n",
       "      <td>CL1</td>\n",
       "    </tr>\n",
       "  </tbody>\n",
       "</table>\n",
       "<p>3 rows × 48 columns</p>\n",
       "</div>"
      ],
      "text/plain": [
       "   yearID lgID teamID franchID divID  Rank   G  Ghome   W   L     ...       \\\n",
       "0    1871  NaN    BS1      BNA   NaN     3  31    NaN  20  10     ...        \n",
       "1    1871  NaN    CH1      CNA   NaN     2  28    NaN  19   9     ...        \n",
       "2    1871  NaN    CL1      CFC   NaN     8  29    NaN  10  19     ...        \n",
       "\n",
       "   DP     FP                     name                          park  \\\n",
       "0 NaN  0.838     Boston Red Stockings           South End Grounds I   \n",
       "1 NaN  0.829  Chicago White Stockings       Union Base-Ball Grounds   \n",
       "2 NaN  0.814   Cleveland Forest Citys  National Association Grounds   \n",
       "\n",
       "   attendance  BPF  PPF  teamIDBR  teamIDlahman45  teamIDretro  \n",
       "0         NaN  103   98       BOS             BS1          BS1  \n",
       "1         NaN  104  102       CHI             CH1          CH1  \n",
       "2         NaN   96  100       CLE             CL1          CL1  \n",
       "\n",
       "[3 rows x 48 columns]"
      ]
     },
     "execution_count": 5,
     "metadata": {},
     "output_type": "execute_result"
    }
   ],
   "source": [
    "teams_df = pd.read_csv('Teams.csv')\n",
    "#teams_df = teams_df[teams_df.yearID >= 1985]\n",
    "teams_df.head(3)"
   ]
  },
  {
   "cell_type": "markdown",
   "metadata": {},
   "source": [
    "*Checking for missing values*\n",
    "\n",
    "Next, I checked whether the \"salary\" column in salary_df and \"W\" column in teams_df have any missing values."
   ]
  },
  {
   "cell_type": "code",
   "execution_count": 6,
   "metadata": {
    "collapsed": true
   },
   "outputs": [],
   "source": [
    "def number_of_NaN(df, colname):\n",
    "\n",
    "    num_missing = len(df[colname]) - df[colname].count()\n",
    "\n",
    "    print 'num of rows: ', len(df[colname])\n",
    "    print 'num of values: ',df[colname].count()\n",
    "    print 'num of missing values: ', num_missing\n",
    "\n",
    "    return num_missing"
   ]
  },
  {
   "cell_type": "code",
   "execution_count": 7,
   "metadata": {},
   "outputs": [
    {
     "name": "stdout",
     "output_type": "stream",
     "text": [
      "num of rows:  26428\n",
      "num of values:  26428\n",
      "num of missing values:  0\n"
     ]
    },
    {
     "data": {
      "text/plain": [
       "0"
      ]
     },
     "execution_count": 7,
     "metadata": {},
     "output_type": "execute_result"
    }
   ],
   "source": [
    "number_of_NaN(salaries_df,'salary')"
   ]
  },
  {
   "cell_type": "code",
   "execution_count": 8,
   "metadata": {},
   "outputs": [
    {
     "name": "stdout",
     "output_type": "stream",
     "text": [
      "num of rows:  2835\n",
      "num of values:  2835\n",
      "num of missing values:  0\n"
     ]
    },
    {
     "data": {
      "text/plain": [
       "0"
      ]
     },
     "execution_count": 8,
     "metadata": {},
     "output_type": "execute_result"
    }
   ],
   "source": [
    "number_of_NaN(teams_df,'W')"
   ]
  },
  {
   "cell_type": "markdown",
   "metadata": {},
   "source": [
    "Since there are no missing values, I continued on with the analysis by first merging the teams_df and salaries_df."
   ]
  },
  {
   "cell_type": "code",
   "execution_count": 9,
   "metadata": {},
   "outputs": [
    {
     "data": {
      "text/html": [
       "<div>\n",
       "<style>\n",
       "    .dataframe thead tr:only-child th {\n",
       "        text-align: right;\n",
       "    }\n",
       "\n",
       "    .dataframe thead th {\n",
       "        text-align: left;\n",
       "    }\n",
       "\n",
       "    .dataframe tbody tr th {\n",
       "        vertical-align: top;\n",
       "    }\n",
       "</style>\n",
       "<table border=\"1\" class=\"dataframe\">\n",
       "  <thead>\n",
       "    <tr style=\"text-align: right;\">\n",
       "      <th></th>\n",
       "      <th>teamID</th>\n",
       "      <th>W</th>\n",
       "      <th>salary</th>\n",
       "    </tr>\n",
       "    <tr>\n",
       "      <th>yearID</th>\n",
       "      <th></th>\n",
       "      <th></th>\n",
       "      <th></th>\n",
       "    </tr>\n",
       "  </thead>\n",
       "  <tbody>\n",
       "    <tr>\n",
       "      <th>1985</th>\n",
       "      <td>26</td>\n",
       "      <td>26</td>\n",
       "      <td>26</td>\n",
       "    </tr>\n",
       "    <tr>\n",
       "      <th>1986</th>\n",
       "      <td>26</td>\n",
       "      <td>26</td>\n",
       "      <td>26</td>\n",
       "    </tr>\n",
       "    <tr>\n",
       "      <th>1987</th>\n",
       "      <td>26</td>\n",
       "      <td>26</td>\n",
       "      <td>26</td>\n",
       "    </tr>\n",
       "    <tr>\n",
       "      <th>1988</th>\n",
       "      <td>26</td>\n",
       "      <td>26</td>\n",
       "      <td>26</td>\n",
       "    </tr>\n",
       "    <tr>\n",
       "      <th>1989</th>\n",
       "      <td>26</td>\n",
       "      <td>26</td>\n",
       "      <td>26</td>\n",
       "    </tr>\n",
       "    <tr>\n",
       "      <th>1990</th>\n",
       "      <td>26</td>\n",
       "      <td>26</td>\n",
       "      <td>26</td>\n",
       "    </tr>\n",
       "    <tr>\n",
       "      <th>1991</th>\n",
       "      <td>26</td>\n",
       "      <td>26</td>\n",
       "      <td>26</td>\n",
       "    </tr>\n",
       "    <tr>\n",
       "      <th>1992</th>\n",
       "      <td>26</td>\n",
       "      <td>26</td>\n",
       "      <td>26</td>\n",
       "    </tr>\n",
       "    <tr>\n",
       "      <th>1993</th>\n",
       "      <td>28</td>\n",
       "      <td>28</td>\n",
       "      <td>28</td>\n",
       "    </tr>\n",
       "    <tr>\n",
       "      <th>1994</th>\n",
       "      <td>28</td>\n",
       "      <td>28</td>\n",
       "      <td>28</td>\n",
       "    </tr>\n",
       "    <tr>\n",
       "      <th>1995</th>\n",
       "      <td>28</td>\n",
       "      <td>28</td>\n",
       "      <td>28</td>\n",
       "    </tr>\n",
       "    <tr>\n",
       "      <th>1996</th>\n",
       "      <td>28</td>\n",
       "      <td>28</td>\n",
       "      <td>28</td>\n",
       "    </tr>\n",
       "    <tr>\n",
       "      <th>1997</th>\n",
       "      <td>28</td>\n",
       "      <td>28</td>\n",
       "      <td>28</td>\n",
       "    </tr>\n",
       "    <tr>\n",
       "      <th>1998</th>\n",
       "      <td>30</td>\n",
       "      <td>30</td>\n",
       "      <td>30</td>\n",
       "    </tr>\n",
       "    <tr>\n",
       "      <th>1999</th>\n",
       "      <td>30</td>\n",
       "      <td>30</td>\n",
       "      <td>30</td>\n",
       "    </tr>\n",
       "    <tr>\n",
       "      <th>2000</th>\n",
       "      <td>30</td>\n",
       "      <td>30</td>\n",
       "      <td>30</td>\n",
       "    </tr>\n",
       "    <tr>\n",
       "      <th>2001</th>\n",
       "      <td>30</td>\n",
       "      <td>30</td>\n",
       "      <td>30</td>\n",
       "    </tr>\n",
       "    <tr>\n",
       "      <th>2002</th>\n",
       "      <td>30</td>\n",
       "      <td>30</td>\n",
       "      <td>30</td>\n",
       "    </tr>\n",
       "    <tr>\n",
       "      <th>2003</th>\n",
       "      <td>30</td>\n",
       "      <td>30</td>\n",
       "      <td>30</td>\n",
       "    </tr>\n",
       "    <tr>\n",
       "      <th>2004</th>\n",
       "      <td>30</td>\n",
       "      <td>30</td>\n",
       "      <td>30</td>\n",
       "    </tr>\n",
       "    <tr>\n",
       "      <th>2005</th>\n",
       "      <td>30</td>\n",
       "      <td>30</td>\n",
       "      <td>30</td>\n",
       "    </tr>\n",
       "    <tr>\n",
       "      <th>2006</th>\n",
       "      <td>30</td>\n",
       "      <td>30</td>\n",
       "      <td>30</td>\n",
       "    </tr>\n",
       "    <tr>\n",
       "      <th>2007</th>\n",
       "      <td>30</td>\n",
       "      <td>30</td>\n",
       "      <td>30</td>\n",
       "    </tr>\n",
       "    <tr>\n",
       "      <th>2008</th>\n",
       "      <td>30</td>\n",
       "      <td>30</td>\n",
       "      <td>30</td>\n",
       "    </tr>\n",
       "    <tr>\n",
       "      <th>2009</th>\n",
       "      <td>30</td>\n",
       "      <td>30</td>\n",
       "      <td>30</td>\n",
       "    </tr>\n",
       "    <tr>\n",
       "      <th>2010</th>\n",
       "      <td>30</td>\n",
       "      <td>30</td>\n",
       "      <td>30</td>\n",
       "    </tr>\n",
       "    <tr>\n",
       "      <th>2011</th>\n",
       "      <td>30</td>\n",
       "      <td>30</td>\n",
       "      <td>30</td>\n",
       "    </tr>\n",
       "    <tr>\n",
       "      <th>2012</th>\n",
       "      <td>30</td>\n",
       "      <td>30</td>\n",
       "      <td>30</td>\n",
       "    </tr>\n",
       "    <tr>\n",
       "      <th>2013</th>\n",
       "      <td>30</td>\n",
       "      <td>30</td>\n",
       "      <td>30</td>\n",
       "    </tr>\n",
       "    <tr>\n",
       "      <th>2014</th>\n",
       "      <td>30</td>\n",
       "      <td>30</td>\n",
       "      <td>30</td>\n",
       "    </tr>\n",
       "    <tr>\n",
       "      <th>2015</th>\n",
       "      <td>30</td>\n",
       "      <td>30</td>\n",
       "      <td>30</td>\n",
       "    </tr>\n",
       "    <tr>\n",
       "      <th>2016</th>\n",
       "      <td>19</td>\n",
       "      <td>19</td>\n",
       "      <td>19</td>\n",
       "    </tr>\n",
       "  </tbody>\n",
       "</table>\n",
       "</div>"
      ],
      "text/plain": [
       "        teamID   W  salary\n",
       "yearID                    \n",
       "1985        26  26      26\n",
       "1986        26  26      26\n",
       "1987        26  26      26\n",
       "1988        26  26      26\n",
       "1989        26  26      26\n",
       "1990        26  26      26\n",
       "1991        26  26      26\n",
       "1992        26  26      26\n",
       "1993        28  28      28\n",
       "1994        28  28      28\n",
       "1995        28  28      28\n",
       "1996        28  28      28\n",
       "1997        28  28      28\n",
       "1998        30  30      30\n",
       "1999        30  30      30\n",
       "2000        30  30      30\n",
       "2001        30  30      30\n",
       "2002        30  30      30\n",
       "2003        30  30      30\n",
       "2004        30  30      30\n",
       "2005        30  30      30\n",
       "2006        30  30      30\n",
       "2007        30  30      30\n",
       "2008        30  30      30\n",
       "2009        30  30      30\n",
       "2010        30  30      30\n",
       "2011        30  30      30\n",
       "2012        30  30      30\n",
       "2013        30  30      30\n",
       "2014        30  30      30\n",
       "2015        30  30      30\n",
       "2016        19  19      19"
      ]
     },
     "execution_count": 9,
     "metadata": {},
     "output_type": "execute_result"
    }
   ],
   "source": [
    "def merge_team_and_salaries():\n",
    "    \n",
    "    a = teams_df[['yearID','teamID','W']]\n",
    "    b = salaries_df.groupby(['yearID','teamID'], as_index=False).sum()\n",
    "    #print a\n",
    "    #print b\n",
    "    df_merged = a.merge(b, on=['yearID','teamID'], how='inner')\n",
    "\n",
    "    #print df_merged.groupby('yearID').count()\n",
    "    return df_merged\n",
    "\n",
    "salaries_vs_win_data = merge_team_and_salaries()\n",
    "\n",
    "salaries_vs_win_data.groupby('yearID').count()"
   ]
  },
  {
   "cell_type": "markdown",
   "metadata": {},
   "source": [
    "Looking at the count of merged data by 'yearID', there is a sharp drop off in number of teams in 2016 to 19 teams.  I perused the teams and salaries data and discovered that some of the 'teamID' in salaries_df was changed in 2016 while the 'teamID' in teams_df did not change.  I manually fixed the salaries_df to make the data consistent."
   ]
  },
  {
   "cell_type": "code",
   "execution_count": 10,
   "metadata": {
    "collapsed": true
   },
   "outputs": [],
   "source": [
    "def fix_salaries_df_teamid():\n",
    "    salaries_df.loc[((salaries_df.yearID==2016) & (salaries_df.teamID=='CHW')),'teamID']='CHA'\n",
    "    salaries_df.loc[((salaries_df.yearID==2016) & (salaries_df.teamID=='CHC')),'teamID']='CHN'\n",
    "    salaries_df.loc[((salaries_df.yearID==2016) & (salaries_df.teamID=='KCR')),'teamID']='KCA'\n",
    "    salaries_df.loc[((salaries_df.yearID==2016) & (salaries_df.teamID=='LAD')),'teamID']='LAN'\n",
    "    salaries_df.loc[((salaries_df.yearID==2016) & (salaries_df.teamID=='NYY')),'teamID']='NYA'\n",
    "    salaries_df.loc[((salaries_df.yearID==2016) & (salaries_df.teamID=='NYM')),'teamID']='NYN'\n",
    "    salaries_df.loc[((salaries_df.yearID==2016) & (salaries_df.teamID=='SDP')),'teamID']='SDN'\n",
    "    salaries_df.loc[((salaries_df.yearID==2016) & (salaries_df.teamID=='SFG')),'teamID']='SFN'\n",
    "    salaries_df.loc[((salaries_df.yearID==2016) & (salaries_df.teamID=='STL')),'teamID']='SLN'\n",
    "    salaries_df.loc[((salaries_df.yearID==2016) & (salaries_df.teamID=='TBR')),'teamID']='TBA'\n",
    "    salaries_df.loc[((salaries_df.yearID==2016) & (salaries_df.teamID=='WSN')),'teamID']='WAS'\n",
    "    return None"
   ]
  },
  {
   "cell_type": "code",
   "execution_count": 11,
   "metadata": {},
   "outputs": [
    {
     "data": {
      "text/html": [
       "<div>\n",
       "<style>\n",
       "    .dataframe thead tr:only-child th {\n",
       "        text-align: right;\n",
       "    }\n",
       "\n",
       "    .dataframe thead th {\n",
       "        text-align: left;\n",
       "    }\n",
       "\n",
       "    .dataframe tbody tr th {\n",
       "        vertical-align: top;\n",
       "    }\n",
       "</style>\n",
       "<table border=\"1\" class=\"dataframe\">\n",
       "  <thead>\n",
       "    <tr style=\"text-align: right;\">\n",
       "      <th></th>\n",
       "      <th>teamID</th>\n",
       "      <th>W</th>\n",
       "      <th>salary</th>\n",
       "    </tr>\n",
       "    <tr>\n",
       "      <th>yearID</th>\n",
       "      <th></th>\n",
       "      <th></th>\n",
       "      <th></th>\n",
       "    </tr>\n",
       "  </thead>\n",
       "  <tbody>\n",
       "    <tr>\n",
       "      <th>2011</th>\n",
       "      <td>30</td>\n",
       "      <td>30</td>\n",
       "      <td>30</td>\n",
       "    </tr>\n",
       "    <tr>\n",
       "      <th>2012</th>\n",
       "      <td>30</td>\n",
       "      <td>30</td>\n",
       "      <td>30</td>\n",
       "    </tr>\n",
       "    <tr>\n",
       "      <th>2013</th>\n",
       "      <td>30</td>\n",
       "      <td>30</td>\n",
       "      <td>30</td>\n",
       "    </tr>\n",
       "    <tr>\n",
       "      <th>2014</th>\n",
       "      <td>30</td>\n",
       "      <td>30</td>\n",
       "      <td>30</td>\n",
       "    </tr>\n",
       "    <tr>\n",
       "      <th>2015</th>\n",
       "      <td>30</td>\n",
       "      <td>30</td>\n",
       "      <td>30</td>\n",
       "    </tr>\n",
       "    <tr>\n",
       "      <th>2016</th>\n",
       "      <td>30</td>\n",
       "      <td>30</td>\n",
       "      <td>30</td>\n",
       "    </tr>\n",
       "  </tbody>\n",
       "</table>\n",
       "</div>"
      ],
      "text/plain": [
       "        teamID   W  salary\n",
       "yearID                    \n",
       "2011        30  30      30\n",
       "2012        30  30      30\n",
       "2013        30  30      30\n",
       "2014        30  30      30\n",
       "2015        30  30      30\n",
       "2016        30  30      30"
      ]
     },
     "execution_count": 11,
     "metadata": {},
     "output_type": "execute_result"
    }
   ],
   "source": [
    "fix_salaries_df_teamid()\n",
    "salaries_vs_win_data = merge_team_and_salaries()\n",
    "salaries_vs_win_data[salaries_vs_win_data.yearID>2010].groupby('yearID').count()"
   ]
  },
  {
   "cell_type": "markdown",
   "metadata": {},
   "source": [
    "With the data cleaned, I ran correlations of team salary vs number of wins over the years."
   ]
  },
  {
   "cell_type": "code",
   "execution_count": 12,
   "metadata": {
    "collapsed": true
   },
   "outputs": [],
   "source": [
    "def compute_correl(df, col1, col2, grp=None):\n",
    "    # if grp is not passed, compute correlations on col1 and col2 in dataframe df\n",
    "    # return a list of one list with 'All\" as a key value\n",
    "    # if grp is passed, run multiple runs of correlation grouped by grp\n",
    "    # return a list of lists with grp as key values\n",
    "    \n",
    "    correl_data = []\n",
    "    \n",
    "    if grp==None:\n",
    "        correl_data.append(['All',df[col1].corr(df[col2], method='pearson')])\n",
    "    else:\n",
    "        for name, group in df.groupby(grp):\n",
    "            tmp = np.corrcoef(group[col1], group[col2])[0,1]\n",
    "            correl_data.append([name, tmp])\n",
    "                \n",
    "    return correl_data    "
   ]
  },
  {
   "cell_type": "code",
   "execution_count": 13,
   "metadata": {
    "collapsed": true
   },
   "outputs": [],
   "source": [
    "salary_win_corr = compute_correl(salaries_vs_win_data, 'salary', 'W', 'yearID')"
   ]
  },
  {
   "cell_type": "markdown",
   "metadata": {},
   "source": [
    "To visually look at the change in the correlation of salaries and wins, I plotted a line graph."
   ]
  },
  {
   "cell_type": "code",
   "execution_count": 14,
   "metadata": {
    "collapsed": true
   },
   "outputs": [],
   "source": [
    "def plot_single_line(x_list, y_list, ptitle, pxlabel, pylabel):\n",
    "    # x_list = x-axis values, y_list = y-axis values\n",
    "    # ptitle = title, pxlabel = xlabel, pylabel = ylabel\n",
    "    \n",
    "    plt.plot(y_list,x_list)\n",
    "    plt.title(ptitle)\n",
    "    plt.xlabel(pxlabel)\n",
    "    plt.ylabel(pylabel)\n",
    "\n",
    "    return None"
   ]
  },
  {
   "cell_type": "code",
   "execution_count": 15,
   "metadata": {},
   "outputs": [
    {
     "data": {
      "image/png": "[encoded data removed]",
      "text/plain": [
       "<matplotlib.figure.Figure at 0xc56ca90>"
      ]
     },
     "metadata": {},
     "output_type": "display_data"
    }
   ],
   "source": [
    "x_val = [data[1] for data in salary_win_corr]\n",
    "y_val = [data[0] for data in salary_win_corr]\n",
    "\n",
    "plot_single_line(x_val, y_val,'Chart A: Correlation between MLB team wins and salaries',\n",
    "                 'year','correlation')"
   ]
  },
  {
   "cell_type": "markdown",
   "metadata": {},
   "source": [
    "I also plotted the mean, max and min values of salaries and wins to see the trends of those variables."
   ]
  },
  {
   "cell_type": "code",
   "execution_count": 16,
   "metadata": {
    "collapsed": true
   },
   "outputs": [],
   "source": [
    "def plot_groupby_mean_max_min(datalist, grp, colname, ptitle, pxlabel, pylabel):\n",
    "\n",
    "    # plot the mean, max and min of datalist grouped by grp for column colname\n",
    "    # datalist has data\n",
    "    # grp is the field to groupby\n",
    "    # colname is the field to chart\n",
    "    # ptitle is the plot title\n",
    "    # pxlabel is the plot xlabel\n",
    "    # pylabel is the plot ylabel\n",
    "    \n",
    "    datalist_group = datalist.groupby(grp)\n",
    "    data_mean = datalist_group[colname].mean()\n",
    "    data_max = datalist_group[colname].max()\n",
    "    data_min = datalist_group[colname].min()\n",
    "    \n",
    "    plt.plot(data_mean, label='mean')\n",
    "    plt.plot(data_max, label='max')\n",
    "    plt.plot(data_min, label='min')\n",
    "    plt.title(ptitle)\n",
    "    plt.xlabel(pxlabel)\n",
    "    plt.ylabel(pylabel)\n",
    "    \n",
    "    plt.legend(loc='upper left')\n",
    "    \n",
    "    return None"
   ]
  },
  {
   "cell_type": "code",
   "execution_count": 17,
   "metadata": {},
   "outputs": [
    {
     "data": {
      "image/png": "[encoded data removed]",
      "text/plain": [
       "<matplotlib.figure.Figure at 0xc4c57f0>"
      ]
     },
     "metadata": {},
     "output_type": "display_data"
    }
   ],
   "source": [
    "plot_groupby_mean_max_min(salaries_vs_win_data, 'yearID', 'salary', \n",
    "                         'Chart B: Annual salaries for MLBS teams', 'year',\n",
    "                         'team salaries ($)')"
   ]
  },
  {
   "cell_type": "code",
   "execution_count": 18,
   "metadata": {},
   "outputs": [
    {
     "data": {
      "image/png": "[encoded data removed]",
      "text/plain": [
       "<matplotlib.figure.Figure at 0x587fe48>"
      ]
     },
     "metadata": {},
     "output_type": "display_data"
    }
   ],
   "source": [
    "plot_groupby_mean_max_min(salaries_vs_win_data, 'yearID', 'W',\n",
    "                         'Chart C: Number of wins for MLBS teams', 'year',\n",
    "                         'Wins')\n"
   ]
  },
  {
   "cell_type": "code",
   "execution_count": 23,
   "metadata": {},
   "outputs": [
    {
     "data": {
      "text/plain": [
       "<matplotlib.text.Text at 0xdaeecc0>"
      ]
     },
     "execution_count": 23,
     "metadata": {},
     "output_type": "execute_result"
    },
    {
     "data": {
      "image/png": "[encoded data removed]",
      "text/plain": [
       "<matplotlib.figure.Figure at 0xcc72e80>"
      ]
     },
     "metadata": {},
     "output_type": "display_data"
    }
   ],
   "source": [
    "plt.scatter(salaries_vs_win_data[salaries_vs_win_data.yearID==2016]['salary'],\n",
    "            salaries_vs_win_data[salaries_vs_win_data.yearID==2016]['W'])\n",
    "plt.xlabel('Team Salary ($)')\n",
    "plt.ylabel('Wins')\n",
    "plt.title('Chart O: Win vs Team Salary in 2016')"
   ]
  },
  {
   "cell_type": "markdown",
   "metadata": {},
   "source": [
    "**CONCLUSION FOR QUESTION 1**\n",
    "\n",
    "Team salary and win total are positively correlated with correlation being higher from 1993 to 2016 than from 1985 to 1992 (Chart A).  Correlation ranged between -0.05 to 0.35 from 1985 to 1992, which imply that there were very small positive correlation, if any.  Salary and win correlation were much higher over the next 18years, from 1993 to 2011, as they ranged from 0.35 to 0.67.  They dropped to around 0.25 from 2012 to 2015, before jumping to 0.65 in 2016.  There seems to be positive correlation between the two variables, especially after 1993.\n",
    "\n",
    "Looking at the scatterplot of wins versus team salary of 2016 season shows the strong positive correlation (Chart O).  All eight teams that spend more than \\$150 million in team salary won at least 83 games for the season.  On the other hand, twelve out of fourteen teams with salary less than \\$125 million won less than 80 games.  However, since the correlation does not imply causation, I cannot conclude that teams spending more salary will likely to win more games.  While controlled experiment could help answer the causation, it is difficult to set up as the league will not accept to do an experiment.  \n",
    "\n",
    "Another limitation of the data is that the team salary is the beginning of the year total.  Teams add and drop players throughout the season, so the beginning team salaries could vastly differ from the in-season and ending team salaries.\n",
    "\n",
    "Looking at the annual salary chart (Chart B), average team salaries has ballooned from \\$10 million in 1985 to \\$125 million in 2016.  Maximum team salary has broken \\$200 million mark in 2005 and has been around \\$220 million from 2013 to 2016.\n",
    "\n",
    "Annual team wins have been averaging around 81 games, except for the strike-shortened season of 1994 and 1995 (Chart C).  This makes sense because there are 162 games per team a year, minus a small number of cancelled games that are not made up.  Removing the strike-shortened seasons, maximum team wins have ranged from 96 wins to 116 wins while the minumum team wins have ranged from 43 wins to 66 wins.\n"
   ]
  },
  {
   "cell_type": "markdown",
   "metadata": {},
   "source": [
    "\n",
    "---\n"
   ]
  },
  {
   "cell_type": "markdown",
   "metadata": {},
   "source": [
    "### 2. What are the average age, height and weight and their distributions for all-star players?\n",
    "\n",
    "To answer this, I needed to use the Masters.csv which has the player information including age, height and weight as well as AllStarFull.csv which has the all-star rosters since 1933.  To remain consistent with the above analysis, I will keep only look at the all-star games since 1985.  Also, the spreadsheets only provide single height and weight for the players.  While the height and the weight fluctuate over the course of their career, we will assume that they are fairly steady and assume to be a single value.\n",
    "\n",
    "First, let's import the data and merge them to do analysis."
   ]
  },
  {
   "cell_type": "code",
   "execution_count": 18,
   "metadata": {},
   "outputs": [
    {
     "data": {
      "text/html": [
       "<div>\n",
       "<style>\n",
       "    .dataframe thead tr:only-child th {\n",
       "        text-align: right;\n",
       "    }\n",
       "\n",
       "    .dataframe thead th {\n",
       "        text-align: left;\n",
       "    }\n",
       "\n",
       "    .dataframe tbody tr th {\n",
       "        vertical-align: top;\n",
       "    }\n",
       "</style>\n",
       "<table border=\"1\" class=\"dataframe\">\n",
       "  <thead>\n",
       "    <tr style=\"text-align: right;\">\n",
       "      <th></th>\n",
       "      <th>playerID</th>\n",
       "      <th>birthYear</th>\n",
       "      <th>birthMonth</th>\n",
       "      <th>birthDay</th>\n",
       "      <th>birthCountry</th>\n",
       "      <th>birthState</th>\n",
       "      <th>birthCity</th>\n",
       "      <th>deathYear</th>\n",
       "      <th>deathMonth</th>\n",
       "      <th>deathDay</th>\n",
       "      <th>...</th>\n",
       "      <th>nameLast</th>\n",
       "      <th>nameGiven</th>\n",
       "      <th>weight</th>\n",
       "      <th>height</th>\n",
       "      <th>bats</th>\n",
       "      <th>throws</th>\n",
       "      <th>debut</th>\n",
       "      <th>finalGame</th>\n",
       "      <th>retroID</th>\n",
       "      <th>bbrefID</th>\n",
       "    </tr>\n",
       "  </thead>\n",
       "  <tbody>\n",
       "    <tr>\n",
       "      <th>0</th>\n",
       "      <td>aardsda01</td>\n",
       "      <td>1981.0</td>\n",
       "      <td>12.0</td>\n",
       "      <td>27.0</td>\n",
       "      <td>USA</td>\n",
       "      <td>CO</td>\n",
       "      <td>Denver</td>\n",
       "      <td>NaN</td>\n",
       "      <td>NaN</td>\n",
       "      <td>NaN</td>\n",
       "      <td>...</td>\n",
       "      <td>Aardsma</td>\n",
       "      <td>David Allan</td>\n",
       "      <td>215.0</td>\n",
       "      <td>75.0</td>\n",
       "      <td>R</td>\n",
       "      <td>R</td>\n",
       "      <td>2004-04-06</td>\n",
       "      <td>2015-08-23</td>\n",
       "      <td>aardd001</td>\n",
       "      <td>aardsda01</td>\n",
       "    </tr>\n",
       "    <tr>\n",
       "      <th>1</th>\n",
       "      <td>aaronha01</td>\n",
       "      <td>1934.0</td>\n",
       "      <td>2.0</td>\n",
       "      <td>5.0</td>\n",
       "      <td>USA</td>\n",
       "      <td>AL</td>\n",
       "      <td>Mobile</td>\n",
       "      <td>NaN</td>\n",
       "      <td>NaN</td>\n",
       "      <td>NaN</td>\n",
       "      <td>...</td>\n",
       "      <td>Aaron</td>\n",
       "      <td>Henry Louis</td>\n",
       "      <td>180.0</td>\n",
       "      <td>72.0</td>\n",
       "      <td>R</td>\n",
       "      <td>R</td>\n",
       "      <td>1954-04-13</td>\n",
       "      <td>1976-10-03</td>\n",
       "      <td>aaroh101</td>\n",
       "      <td>aaronha01</td>\n",
       "    </tr>\n",
       "    <tr>\n",
       "      <th>2</th>\n",
       "      <td>aaronto01</td>\n",
       "      <td>1939.0</td>\n",
       "      <td>8.0</td>\n",
       "      <td>5.0</td>\n",
       "      <td>USA</td>\n",
       "      <td>AL</td>\n",
       "      <td>Mobile</td>\n",
       "      <td>1984.0</td>\n",
       "      <td>8.0</td>\n",
       "      <td>16.0</td>\n",
       "      <td>...</td>\n",
       "      <td>Aaron</td>\n",
       "      <td>Tommie Lee</td>\n",
       "      <td>190.0</td>\n",
       "      <td>75.0</td>\n",
       "      <td>R</td>\n",
       "      <td>R</td>\n",
       "      <td>1962-04-10</td>\n",
       "      <td>1971-09-26</td>\n",
       "      <td>aarot101</td>\n",
       "      <td>aaronto01</td>\n",
       "    </tr>\n",
       "    <tr>\n",
       "      <th>3</th>\n",
       "      <td>aasedo01</td>\n",
       "      <td>1954.0</td>\n",
       "      <td>9.0</td>\n",
       "      <td>8.0</td>\n",
       "      <td>USA</td>\n",
       "      <td>CA</td>\n",
       "      <td>Orange</td>\n",
       "      <td>NaN</td>\n",
       "      <td>NaN</td>\n",
       "      <td>NaN</td>\n",
       "      <td>...</td>\n",
       "      <td>Aase</td>\n",
       "      <td>Donald William</td>\n",
       "      <td>190.0</td>\n",
       "      <td>75.0</td>\n",
       "      <td>R</td>\n",
       "      <td>R</td>\n",
       "      <td>1977-07-26</td>\n",
       "      <td>1990-10-03</td>\n",
       "      <td>aased001</td>\n",
       "      <td>aasedo01</td>\n",
       "    </tr>\n",
       "    <tr>\n",
       "      <th>4</th>\n",
       "      <td>abadan01</td>\n",
       "      <td>1972.0</td>\n",
       "      <td>8.0</td>\n",
       "      <td>25.0</td>\n",
       "      <td>USA</td>\n",
       "      <td>FL</td>\n",
       "      <td>Palm Beach</td>\n",
       "      <td>NaN</td>\n",
       "      <td>NaN</td>\n",
       "      <td>NaN</td>\n",
       "      <td>...</td>\n",
       "      <td>Abad</td>\n",
       "      <td>Fausto Andres</td>\n",
       "      <td>184.0</td>\n",
       "      <td>73.0</td>\n",
       "      <td>L</td>\n",
       "      <td>L</td>\n",
       "      <td>2001-09-10</td>\n",
       "      <td>2006-04-13</td>\n",
       "      <td>abada001</td>\n",
       "      <td>abadan01</td>\n",
       "    </tr>\n",
       "  </tbody>\n",
       "</table>\n",
       "<p>5 rows × 24 columns</p>\n",
       "</div>"
      ],
      "text/plain": [
       "    playerID  birthYear  birthMonth  birthDay birthCountry birthState  \\\n",
       "0  aardsda01     1981.0        12.0      27.0          USA         CO   \n",
       "1  aaronha01     1934.0         2.0       5.0          USA         AL   \n",
       "2  aaronto01     1939.0         8.0       5.0          USA         AL   \n",
       "3   aasedo01     1954.0         9.0       8.0          USA         CA   \n",
       "4   abadan01     1972.0         8.0      25.0          USA         FL   \n",
       "\n",
       "    birthCity  deathYear  deathMonth  deathDay    ...     nameLast  \\\n",
       "0      Denver        NaN         NaN       NaN    ...      Aardsma   \n",
       "1      Mobile        NaN         NaN       NaN    ...        Aaron   \n",
       "2      Mobile     1984.0         8.0      16.0    ...        Aaron   \n",
       "3      Orange        NaN         NaN       NaN    ...         Aase   \n",
       "4  Palm Beach        NaN         NaN       NaN    ...         Abad   \n",
       "\n",
       "        nameGiven weight height bats throws       debut   finalGame   retroID  \\\n",
       "0     David Allan  215.0   75.0    R      R  2004-04-06  2015-08-23  aardd001   \n",
       "1     Henry Louis  180.0   72.0    R      R  1954-04-13  1976-10-03  aaroh101   \n",
       "2      Tommie Lee  190.0   75.0    R      R  1962-04-10  1971-09-26  aarot101   \n",
       "3  Donald William  190.0   75.0    R      R  1977-07-26  1990-10-03  aased001   \n",
       "4   Fausto Andres  184.0   73.0    L      L  2001-09-10  2006-04-13  abada001   \n",
       "\n",
       "     bbrefID  \n",
       "0  aardsda01  \n",
       "1  aaronha01  \n",
       "2  aaronto01  \n",
       "3   aasedo01  \n",
       "4   abadan01  \n",
       "\n",
       "[5 rows x 24 columns]"
      ]
     },
     "execution_count": 18,
     "metadata": {},
     "output_type": "execute_result"
    }
   ],
   "source": [
    "master_df = pd.read_csv('Master.csv')\n",
    "master_df.head()"
   ]
  },
  {
   "cell_type": "code",
   "execution_count": 19,
   "metadata": {},
   "outputs": [
    {
     "data": {
      "text/html": [
       "<div>\n",
       "<style>\n",
       "    .dataframe thead tr:only-child th {\n",
       "        text-align: right;\n",
       "    }\n",
       "\n",
       "    .dataframe thead th {\n",
       "        text-align: left;\n",
       "    }\n",
       "\n",
       "    .dataframe tbody tr th {\n",
       "        vertical-align: top;\n",
       "    }\n",
       "</style>\n",
       "<table border=\"1\" class=\"dataframe\">\n",
       "  <thead>\n",
       "    <tr style=\"text-align: right;\">\n",
       "      <th></th>\n",
       "      <th>playerID</th>\n",
       "      <th>yearID</th>\n",
       "      <th>gameNum</th>\n",
       "      <th>gameID</th>\n",
       "      <th>teamID</th>\n",
       "      <th>lgID</th>\n",
       "      <th>GP</th>\n",
       "      <th>startingPos</th>\n",
       "    </tr>\n",
       "  </thead>\n",
       "  <tbody>\n",
       "    <tr>\n",
       "      <th>0</th>\n",
       "      <td>gomezle01</td>\n",
       "      <td>1933</td>\n",
       "      <td>0</td>\n",
       "      <td>ALS193307060</td>\n",
       "      <td>NYA</td>\n",
       "      <td>AL</td>\n",
       "      <td>1.0</td>\n",
       "      <td>1.0</td>\n",
       "    </tr>\n",
       "    <tr>\n",
       "      <th>1</th>\n",
       "      <td>ferreri01</td>\n",
       "      <td>1933</td>\n",
       "      <td>0</td>\n",
       "      <td>ALS193307060</td>\n",
       "      <td>BOS</td>\n",
       "      <td>AL</td>\n",
       "      <td>1.0</td>\n",
       "      <td>2.0</td>\n",
       "    </tr>\n",
       "    <tr>\n",
       "      <th>2</th>\n",
       "      <td>gehrilo01</td>\n",
       "      <td>1933</td>\n",
       "      <td>0</td>\n",
       "      <td>ALS193307060</td>\n",
       "      <td>NYA</td>\n",
       "      <td>AL</td>\n",
       "      <td>1.0</td>\n",
       "      <td>3.0</td>\n",
       "    </tr>\n",
       "    <tr>\n",
       "      <th>3</th>\n",
       "      <td>gehrich01</td>\n",
       "      <td>1933</td>\n",
       "      <td>0</td>\n",
       "      <td>ALS193307060</td>\n",
       "      <td>DET</td>\n",
       "      <td>AL</td>\n",
       "      <td>1.0</td>\n",
       "      <td>4.0</td>\n",
       "    </tr>\n",
       "    <tr>\n",
       "      <th>4</th>\n",
       "      <td>dykesji01</td>\n",
       "      <td>1933</td>\n",
       "      <td>0</td>\n",
       "      <td>ALS193307060</td>\n",
       "      <td>CHA</td>\n",
       "      <td>AL</td>\n",
       "      <td>1.0</td>\n",
       "      <td>5.0</td>\n",
       "    </tr>\n",
       "  </tbody>\n",
       "</table>\n",
       "</div>"
      ],
      "text/plain": [
       "    playerID  yearID  gameNum        gameID teamID lgID   GP  startingPos\n",
       "0  gomezle01    1933        0  ALS193307060    NYA   AL  1.0          1.0\n",
       "1  ferreri01    1933        0  ALS193307060    BOS   AL  1.0          2.0\n",
       "2  gehrilo01    1933        0  ALS193307060    NYA   AL  1.0          3.0\n",
       "3  gehrich01    1933        0  ALS193307060    DET   AL  1.0          4.0\n",
       "4  dykesji01    1933        0  ALS193307060    CHA   AL  1.0          5.0"
      ]
     },
     "execution_count": 19,
     "metadata": {},
     "output_type": "execute_result"
    }
   ],
   "source": [
    "allstarfull_df = pd.read_csv('AllstarFull.csv')\n",
    "allstarfull_df.head()"
   ]
  },
  {
   "cell_type": "code",
   "execution_count": 20,
   "metadata": {},
   "outputs": [
    {
     "data": {
      "text/html": [
       "<div>\n",
       "<style>\n",
       "    .dataframe thead tr:only-child th {\n",
       "        text-align: right;\n",
       "    }\n",
       "\n",
       "    .dataframe thead th {\n",
       "        text-align: left;\n",
       "    }\n",
       "\n",
       "    .dataframe tbody tr th {\n",
       "        vertical-align: top;\n",
       "    }\n",
       "</style>\n",
       "<table border=\"1\" class=\"dataframe\">\n",
       "  <thead>\n",
       "    <tr style=\"text-align: right;\">\n",
       "      <th></th>\n",
       "      <th>playerID</th>\n",
       "      <th>yearID</th>\n",
       "      <th>gameNum</th>\n",
       "      <th>gameID</th>\n",
       "      <th>teamID</th>\n",
       "      <th>lgID</th>\n",
       "      <th>GP</th>\n",
       "      <th>startingPos</th>\n",
       "      <th>birthYear</th>\n",
       "      <th>birthMonth</th>\n",
       "      <th>...</th>\n",
       "      <th>nameLast</th>\n",
       "      <th>nameGiven</th>\n",
       "      <th>weight</th>\n",
       "      <th>height</th>\n",
       "      <th>bats</th>\n",
       "      <th>throws</th>\n",
       "      <th>debut</th>\n",
       "      <th>finalGame</th>\n",
       "      <th>retroID</th>\n",
       "      <th>bbrefID</th>\n",
       "    </tr>\n",
       "  </thead>\n",
       "  <tbody>\n",
       "    <tr>\n",
       "      <th>0</th>\n",
       "      <td>gomezle01</td>\n",
       "      <td>1933</td>\n",
       "      <td>0</td>\n",
       "      <td>ALS193307060</td>\n",
       "      <td>NYA</td>\n",
       "      <td>AL</td>\n",
       "      <td>1.0</td>\n",
       "      <td>1.0</td>\n",
       "      <td>1908.0</td>\n",
       "      <td>11.0</td>\n",
       "      <td>...</td>\n",
       "      <td>Gomez</td>\n",
       "      <td>Vernon Louis</td>\n",
       "      <td>173.0</td>\n",
       "      <td>74.0</td>\n",
       "      <td>L</td>\n",
       "      <td>L</td>\n",
       "      <td>1930-04-29</td>\n",
       "      <td>1943-05-30</td>\n",
       "      <td>gomel102</td>\n",
       "      <td>gomezle01</td>\n",
       "    </tr>\n",
       "    <tr>\n",
       "      <th>1</th>\n",
       "      <td>gomezle01</td>\n",
       "      <td>1934</td>\n",
       "      <td>0</td>\n",
       "      <td>NLS193407100</td>\n",
       "      <td>NYA</td>\n",
       "      <td>AL</td>\n",
       "      <td>1.0</td>\n",
       "      <td>1.0</td>\n",
       "      <td>1908.0</td>\n",
       "      <td>11.0</td>\n",
       "      <td>...</td>\n",
       "      <td>Gomez</td>\n",
       "      <td>Vernon Louis</td>\n",
       "      <td>173.0</td>\n",
       "      <td>74.0</td>\n",
       "      <td>L</td>\n",
       "      <td>L</td>\n",
       "      <td>1930-04-29</td>\n",
       "      <td>1943-05-30</td>\n",
       "      <td>gomel102</td>\n",
       "      <td>gomezle01</td>\n",
       "    </tr>\n",
       "    <tr>\n",
       "      <th>2</th>\n",
       "      <td>gomezle01</td>\n",
       "      <td>1935</td>\n",
       "      <td>0</td>\n",
       "      <td>ALS193507080</td>\n",
       "      <td>NYA</td>\n",
       "      <td>AL</td>\n",
       "      <td>1.0</td>\n",
       "      <td>1.0</td>\n",
       "      <td>1908.0</td>\n",
       "      <td>11.0</td>\n",
       "      <td>...</td>\n",
       "      <td>Gomez</td>\n",
       "      <td>Vernon Louis</td>\n",
       "      <td>173.0</td>\n",
       "      <td>74.0</td>\n",
       "      <td>L</td>\n",
       "      <td>L</td>\n",
       "      <td>1930-04-29</td>\n",
       "      <td>1943-05-30</td>\n",
       "      <td>gomel102</td>\n",
       "      <td>gomezle01</td>\n",
       "    </tr>\n",
       "    <tr>\n",
       "      <th>3</th>\n",
       "      <td>gomezle01</td>\n",
       "      <td>1936</td>\n",
       "      <td>0</td>\n",
       "      <td>NLS193607070</td>\n",
       "      <td>NYA</td>\n",
       "      <td>AL</td>\n",
       "      <td>0.0</td>\n",
       "      <td>NaN</td>\n",
       "      <td>1908.0</td>\n",
       "      <td>11.0</td>\n",
       "      <td>...</td>\n",
       "      <td>Gomez</td>\n",
       "      <td>Vernon Louis</td>\n",
       "      <td>173.0</td>\n",
       "      <td>74.0</td>\n",
       "      <td>L</td>\n",
       "      <td>L</td>\n",
       "      <td>1930-04-29</td>\n",
       "      <td>1943-05-30</td>\n",
       "      <td>gomel102</td>\n",
       "      <td>gomezle01</td>\n",
       "    </tr>\n",
       "    <tr>\n",
       "      <th>4</th>\n",
       "      <td>gomezle01</td>\n",
       "      <td>1937</td>\n",
       "      <td>0</td>\n",
       "      <td>ALS193707070</td>\n",
       "      <td>NYA</td>\n",
       "      <td>AL</td>\n",
       "      <td>1.0</td>\n",
       "      <td>1.0</td>\n",
       "      <td>1908.0</td>\n",
       "      <td>11.0</td>\n",
       "      <td>...</td>\n",
       "      <td>Gomez</td>\n",
       "      <td>Vernon Louis</td>\n",
       "      <td>173.0</td>\n",
       "      <td>74.0</td>\n",
       "      <td>L</td>\n",
       "      <td>L</td>\n",
       "      <td>1930-04-29</td>\n",
       "      <td>1943-05-30</td>\n",
       "      <td>gomel102</td>\n",
       "      <td>gomezle01</td>\n",
       "    </tr>\n",
       "  </tbody>\n",
       "</table>\n",
       "<p>5 rows × 31 columns</p>\n",
       "</div>"
      ],
      "text/plain": [
       "    playerID  yearID  gameNum        gameID teamID lgID   GP  startingPos  \\\n",
       "0  gomezle01    1933        0  ALS193307060    NYA   AL  1.0          1.0   \n",
       "1  gomezle01    1934        0  NLS193407100    NYA   AL  1.0          1.0   \n",
       "2  gomezle01    1935        0  ALS193507080    NYA   AL  1.0          1.0   \n",
       "3  gomezle01    1936        0  NLS193607070    NYA   AL  0.0          NaN   \n",
       "4  gomezle01    1937        0  ALS193707070    NYA   AL  1.0          1.0   \n",
       "\n",
       "   birthYear  birthMonth    ...      nameLast     nameGiven weight height  \\\n",
       "0     1908.0        11.0    ...         Gomez  Vernon Louis  173.0   74.0   \n",
       "1     1908.0        11.0    ...         Gomez  Vernon Louis  173.0   74.0   \n",
       "2     1908.0        11.0    ...         Gomez  Vernon Louis  173.0   74.0   \n",
       "3     1908.0        11.0    ...         Gomez  Vernon Louis  173.0   74.0   \n",
       "4     1908.0        11.0    ...         Gomez  Vernon Louis  173.0   74.0   \n",
       "\n",
       "   bats  throws       debut   finalGame   retroID    bbrefID  \n",
       "0     L       L  1930-04-29  1943-05-30  gomel102  gomezle01  \n",
       "1     L       L  1930-04-29  1943-05-30  gomel102  gomezle01  \n",
       "2     L       L  1930-04-29  1943-05-30  gomel102  gomezle01  \n",
       "3     L       L  1930-04-29  1943-05-30  gomel102  gomezle01  \n",
       "4     L       L  1930-04-29  1943-05-30  gomel102  gomezle01  \n",
       "\n",
       "[5 rows x 31 columns]"
      ]
     },
     "execution_count": 20,
     "metadata": {},
     "output_type": "execute_result"
    }
   ],
   "source": [
    "allstar_df = allstarfull_df.merge(master_df, on=['playerID'], how='inner')\n",
    "allstar_df.head()"
   ]
  },
  {
   "cell_type": "markdown",
   "metadata": {},
   "source": [
    "*Checking for missing values*\n",
    "\n",
    "Next, I checked whether the \"birthYear\", \"birthMonth\", \"birthDay\", \"weight\" and \"height\" columns have any missing value.  I will utilize the function that was created earlier to run these."
   ]
  },
  {
   "cell_type": "code",
   "execution_count": 21,
   "metadata": {},
   "outputs": [
    {
     "name": "stdout",
     "output_type": "stream",
     "text": [
      "num of rows:  5148\n",
      "num of values:  5148\n",
      "num of missing values:  0\n"
     ]
    },
    {
     "data": {
      "text/plain": [
       "0"
      ]
     },
     "execution_count": 21,
     "metadata": {},
     "output_type": "execute_result"
    }
   ],
   "source": [
    "number_of_NaN(allstar_df,'birthYear')"
   ]
  },
  {
   "cell_type": "code",
   "execution_count": 22,
   "metadata": {},
   "outputs": [
    {
     "name": "stdout",
     "output_type": "stream",
     "text": [
      "num of rows:  5148\n",
      "num of values:  5148\n",
      "num of missing values:  0\n"
     ]
    },
    {
     "data": {
      "text/plain": [
       "0"
      ]
     },
     "execution_count": 22,
     "metadata": {},
     "output_type": "execute_result"
    }
   ],
   "source": [
    "number_of_NaN(allstar_df,'birthMonth')"
   ]
  },
  {
   "cell_type": "code",
   "execution_count": 23,
   "metadata": {},
   "outputs": [
    {
     "name": "stdout",
     "output_type": "stream",
     "text": [
      "num of rows:  5148\n",
      "num of values:  5148\n",
      "num of missing values:  0\n"
     ]
    },
    {
     "data": {
      "text/plain": [
       "0"
      ]
     },
     "execution_count": 23,
     "metadata": {},
     "output_type": "execute_result"
    }
   ],
   "source": [
    "number_of_NaN(allstar_df,'birthDay')"
   ]
  },
  {
   "cell_type": "code",
   "execution_count": 24,
   "metadata": {},
   "outputs": [
    {
     "name": "stdout",
     "output_type": "stream",
     "text": [
      "num of rows:  5148\n",
      "num of values:  5148\n",
      "num of missing values:  0\n"
     ]
    },
    {
     "data": {
      "text/plain": [
       "0"
      ]
     },
     "execution_count": 24,
     "metadata": {},
     "output_type": "execute_result"
    }
   ],
   "source": [
    "number_of_NaN(allstar_df,'weight')"
   ]
  },
  {
   "cell_type": "code",
   "execution_count": 25,
   "metadata": {},
   "outputs": [
    {
     "name": "stdout",
     "output_type": "stream",
     "text": [
      "num of rows:  5148\n",
      "num of values:  5148\n",
      "num of missing values:  0\n"
     ]
    },
    {
     "data": {
      "text/plain": [
       "0"
      ]
     },
     "execution_count": 25,
     "metadata": {},
     "output_type": "execute_result"
    }
   ],
   "source": [
    "number_of_NaN(allstar_df,'height')"
   ]
  },
  {
   "cell_type": "markdown",
   "metadata": {},
   "source": [
    "Since there are no missing values, let's calculate the age of the players of their all-star season.  I used the [Wikipedia's List of Major League Baseball All-Star Games](https://en.wikipedia.org/wiki/List_of_Major_League_Baseball_All-Star_Games) to create asgDates.csv with year, month, and day of the historical all-star games.  I will merge this to the allstar_df."
   ]
  },
  {
   "cell_type": "code",
   "execution_count": 26,
   "metadata": {},
   "outputs": [
    {
     "data": {
      "text/html": [
       "<div>\n",
       "<style>\n",
       "    .dataframe thead tr:only-child th {\n",
       "        text-align: right;\n",
       "    }\n",
       "\n",
       "    .dataframe thead th {\n",
       "        text-align: left;\n",
       "    }\n",
       "\n",
       "    .dataframe tbody tr th {\n",
       "        vertical-align: top;\n",
       "    }\n",
       "</style>\n",
       "<table border=\"1\" class=\"dataframe\">\n",
       "  <thead>\n",
       "    <tr style=\"text-align: right;\">\n",
       "      <th></th>\n",
       "      <th>asgYear</th>\n",
       "      <th>asgMth</th>\n",
       "      <th>asgDay</th>\n",
       "    </tr>\n",
       "  </thead>\n",
       "  <tbody>\n",
       "    <tr>\n",
       "      <th>0</th>\n",
       "      <td>1933</td>\n",
       "      <td>7</td>\n",
       "      <td>6</td>\n",
       "    </tr>\n",
       "    <tr>\n",
       "      <th>1</th>\n",
       "      <td>1934</td>\n",
       "      <td>7</td>\n",
       "      <td>10</td>\n",
       "    </tr>\n",
       "    <tr>\n",
       "      <th>2</th>\n",
       "      <td>1935</td>\n",
       "      <td>7</td>\n",
       "      <td>8</td>\n",
       "    </tr>\n",
       "    <tr>\n",
       "      <th>3</th>\n",
       "      <td>1936</td>\n",
       "      <td>7</td>\n",
       "      <td>7</td>\n",
       "    </tr>\n",
       "    <tr>\n",
       "      <th>4</th>\n",
       "      <td>1937</td>\n",
       "      <td>7</td>\n",
       "      <td>7</td>\n",
       "    </tr>\n",
       "  </tbody>\n",
       "</table>\n",
       "</div>"
      ],
      "text/plain": [
       "   asgYear  asgMth  asgDay\n",
       "0     1933       7       6\n",
       "1     1934       7      10\n",
       "2     1935       7       8\n",
       "3     1936       7       7\n",
       "4     1937       7       7"
      ]
     },
     "execution_count": 26,
     "metadata": {},
     "output_type": "execute_result"
    }
   ],
   "source": [
    "asgDates_df = pd.read_csv('asgDates.csv')\n",
    "asgDates_df.head()"
   ]
  },
  {
   "cell_type": "code",
   "execution_count": 27,
   "metadata": {
    "collapsed": true
   },
   "outputs": [],
   "source": [
    "allstar_df = allstar_df.merge(asgDates_df, left_on=['yearID'], right_on=['asgYear'], how='inner')"
   ]
  },
  {
   "cell_type": "code",
   "execution_count": 28,
   "metadata": {},
   "outputs": [
    {
     "data": {
      "text/html": [
       "<div>\n",
       "<style>\n",
       "    .dataframe thead tr:only-child th {\n",
       "        text-align: right;\n",
       "    }\n",
       "\n",
       "    .dataframe thead th {\n",
       "        text-align: left;\n",
       "    }\n",
       "\n",
       "    .dataframe tbody tr th {\n",
       "        vertical-align: top;\n",
       "    }\n",
       "</style>\n",
       "<table border=\"1\" class=\"dataframe\">\n",
       "  <thead>\n",
       "    <tr style=\"text-align: right;\">\n",
       "      <th></th>\n",
       "      <th>playerID</th>\n",
       "      <th>yearID</th>\n",
       "      <th>gameNum</th>\n",
       "      <th>gameID</th>\n",
       "      <th>teamID</th>\n",
       "      <th>lgID</th>\n",
       "      <th>GP</th>\n",
       "      <th>startingPos</th>\n",
       "      <th>birthYear</th>\n",
       "      <th>birthMonth</th>\n",
       "      <th>...</th>\n",
       "      <th>height</th>\n",
       "      <th>bats</th>\n",
       "      <th>throws</th>\n",
       "      <th>debut</th>\n",
       "      <th>finalGame</th>\n",
       "      <th>retroID</th>\n",
       "      <th>bbrefID</th>\n",
       "      <th>asgYear</th>\n",
       "      <th>asgMth</th>\n",
       "      <th>asgDay</th>\n",
       "    </tr>\n",
       "  </thead>\n",
       "  <tbody>\n",
       "    <tr>\n",
       "      <th>0</th>\n",
       "      <td>gomezle01</td>\n",
       "      <td>1933</td>\n",
       "      <td>0</td>\n",
       "      <td>ALS193307060</td>\n",
       "      <td>NYA</td>\n",
       "      <td>AL</td>\n",
       "      <td>1.0</td>\n",
       "      <td>1.0</td>\n",
       "      <td>1908.0</td>\n",
       "      <td>11.0</td>\n",
       "      <td>...</td>\n",
       "      <td>74.0</td>\n",
       "      <td>L</td>\n",
       "      <td>L</td>\n",
       "      <td>1930-04-29</td>\n",
       "      <td>1943-05-30</td>\n",
       "      <td>gomel102</td>\n",
       "      <td>gomezle01</td>\n",
       "      <td>1933</td>\n",
       "      <td>7</td>\n",
       "      <td>6</td>\n",
       "    </tr>\n",
       "    <tr>\n",
       "      <th>1</th>\n",
       "      <td>ferreri01</td>\n",
       "      <td>1933</td>\n",
       "      <td>0</td>\n",
       "      <td>ALS193307060</td>\n",
       "      <td>BOS</td>\n",
       "      <td>AL</td>\n",
       "      <td>1.0</td>\n",
       "      <td>2.0</td>\n",
       "      <td>1905.0</td>\n",
       "      <td>10.0</td>\n",
       "      <td>...</td>\n",
       "      <td>70.0</td>\n",
       "      <td>R</td>\n",
       "      <td>R</td>\n",
       "      <td>1929-04-19</td>\n",
       "      <td>1947-09-14</td>\n",
       "      <td>ferrr101</td>\n",
       "      <td>ferreri01</td>\n",
       "      <td>1933</td>\n",
       "      <td>7</td>\n",
       "      <td>6</td>\n",
       "    </tr>\n",
       "    <tr>\n",
       "      <th>2</th>\n",
       "      <td>gehrilo01</td>\n",
       "      <td>1933</td>\n",
       "      <td>0</td>\n",
       "      <td>ALS193307060</td>\n",
       "      <td>NYA</td>\n",
       "      <td>AL</td>\n",
       "      <td>1.0</td>\n",
       "      <td>3.0</td>\n",
       "      <td>1903.0</td>\n",
       "      <td>6.0</td>\n",
       "      <td>...</td>\n",
       "      <td>72.0</td>\n",
       "      <td>L</td>\n",
       "      <td>L</td>\n",
       "      <td>1923-06-15</td>\n",
       "      <td>1939-04-30</td>\n",
       "      <td>gehrl101</td>\n",
       "      <td>gehrilo01</td>\n",
       "      <td>1933</td>\n",
       "      <td>7</td>\n",
       "      <td>6</td>\n",
       "    </tr>\n",
       "    <tr>\n",
       "      <th>3</th>\n",
       "      <td>gehrich01</td>\n",
       "      <td>1933</td>\n",
       "      <td>0</td>\n",
       "      <td>ALS193307060</td>\n",
       "      <td>DET</td>\n",
       "      <td>AL</td>\n",
       "      <td>1.0</td>\n",
       "      <td>4.0</td>\n",
       "      <td>1903.0</td>\n",
       "      <td>5.0</td>\n",
       "      <td>...</td>\n",
       "      <td>71.0</td>\n",
       "      <td>L</td>\n",
       "      <td>R</td>\n",
       "      <td>1924-09-22</td>\n",
       "      <td>1942-09-27</td>\n",
       "      <td>gehrc101</td>\n",
       "      <td>gehrich01</td>\n",
       "      <td>1933</td>\n",
       "      <td>7</td>\n",
       "      <td>6</td>\n",
       "    </tr>\n",
       "    <tr>\n",
       "      <th>4</th>\n",
       "      <td>dykesji01</td>\n",
       "      <td>1933</td>\n",
       "      <td>0</td>\n",
       "      <td>ALS193307060</td>\n",
       "      <td>CHA</td>\n",
       "      <td>AL</td>\n",
       "      <td>1.0</td>\n",
       "      <td>5.0</td>\n",
       "      <td>1896.0</td>\n",
       "      <td>11.0</td>\n",
       "      <td>...</td>\n",
       "      <td>69.0</td>\n",
       "      <td>R</td>\n",
       "      <td>R</td>\n",
       "      <td>1918-05-06</td>\n",
       "      <td>1939-10-01</td>\n",
       "      <td>dykej101</td>\n",
       "      <td>dykesji01</td>\n",
       "      <td>1933</td>\n",
       "      <td>7</td>\n",
       "      <td>6</td>\n",
       "    </tr>\n",
       "  </tbody>\n",
       "</table>\n",
       "<p>5 rows × 34 columns</p>\n",
       "</div>"
      ],
      "text/plain": [
       "    playerID  yearID  gameNum        gameID teamID lgID   GP  startingPos  \\\n",
       "0  gomezle01    1933        0  ALS193307060    NYA   AL  1.0          1.0   \n",
       "1  ferreri01    1933        0  ALS193307060    BOS   AL  1.0          2.0   \n",
       "2  gehrilo01    1933        0  ALS193307060    NYA   AL  1.0          3.0   \n",
       "3  gehrich01    1933        0  ALS193307060    DET   AL  1.0          4.0   \n",
       "4  dykesji01    1933        0  ALS193307060    CHA   AL  1.0          5.0   \n",
       "\n",
       "   birthYear  birthMonth  ...    height bats throws       debut   finalGame  \\\n",
       "0     1908.0        11.0  ...      74.0    L      L  1930-04-29  1943-05-30   \n",
       "1     1905.0        10.0  ...      70.0    R      R  1929-04-19  1947-09-14   \n",
       "2     1903.0         6.0  ...      72.0    L      L  1923-06-15  1939-04-30   \n",
       "3     1903.0         5.0  ...      71.0    L      R  1924-09-22  1942-09-27   \n",
       "4     1896.0        11.0  ...      69.0    R      R  1918-05-06  1939-10-01   \n",
       "\n",
       "    retroID    bbrefID asgYear asgMth asgDay  \n",
       "0  gomel102  gomezle01    1933      7      6  \n",
       "1  ferrr101  ferreri01    1933      7      6  \n",
       "2  gehrl101  gehrilo01    1933      7      6  \n",
       "3  gehrc101  gehrich01    1933      7      6  \n",
       "4  dykej101  dykesji01    1933      7      6  \n",
       "\n",
       "[5 rows x 34 columns]"
      ]
     },
     "execution_count": 28,
     "metadata": {},
     "output_type": "execute_result"
    }
   ],
   "source": [
    "allstar_df.head()"
   ]
  },
  {
   "cell_type": "code",
   "execution_count": 29,
   "metadata": {
    "collapsed": true
   },
   "outputs": [],
   "source": [
    "allstar_df.birthYear = allstar_df.birthYear.astype(int)\n",
    "allstar_df.birthMonth = allstar_df.birthMonth.astype(int)\n",
    "allstar_df.birthDay = allstar_df.birthDay.astype(int)\n",
    "allstar_df.yearID = allstar_df.yearID.astype(int)"
   ]
  },
  {
   "cell_type": "code",
   "execution_count": 30,
   "metadata": {
    "collapsed": true
   },
   "outputs": [],
   "source": [
    "allstar_df['date_birth'] = allstar_df['birthYear'].astype(str) + '-' + allstar_df['birthMonth'].astype(str) + '-' + allstar_df['birthDay'].astype(str)\n",
    "allstar_df['date_birth'] = pd.to_datetime(allstar_df['date_birth'])"
   ]
  },
  {
   "cell_type": "code",
   "execution_count": 31,
   "metadata": {
    "collapsed": true
   },
   "outputs": [],
   "source": [
    "allstar_df['date_as_game'] = allstar_df['yearID'].astype(str) + '-' + allstar_df['asgMth'].astype(str) + '-' + allstar_df['asgDay'].astype(str)\n",
    "allstar_df['date_as_game'] = pd.to_datetime(allstar_df['date_as_game'])"
   ]
  },
  {
   "cell_type": "code",
   "execution_count": 32,
   "metadata": {
    "collapsed": true
   },
   "outputs": [],
   "source": [
    "allstar_df['age'] = (allstar_df['date_as_game'] - allstar_df['date_birth']) / np.timedelta64(1,'Y')"
   ]
  },
  {
   "cell_type": "code",
   "execution_count": 33,
   "metadata": {},
   "outputs": [
    {
     "data": {
      "text/html": [
       "<div>\n",
       "<style>\n",
       "    .dataframe thead tr:only-child th {\n",
       "        text-align: right;\n",
       "    }\n",
       "\n",
       "    .dataframe thead th {\n",
       "        text-align: left;\n",
       "    }\n",
       "\n",
       "    .dataframe tbody tr th {\n",
       "        vertical-align: top;\n",
       "    }\n",
       "</style>\n",
       "<table border=\"1\" class=\"dataframe\">\n",
       "  <thead>\n",
       "    <tr style=\"text-align: right;\">\n",
       "      <th></th>\n",
       "      <th>playerID</th>\n",
       "      <th>yearID</th>\n",
       "      <th>gameNum</th>\n",
       "      <th>gameID</th>\n",
       "      <th>teamID</th>\n",
       "      <th>lgID</th>\n",
       "      <th>GP</th>\n",
       "      <th>startingPos</th>\n",
       "      <th>birthYear</th>\n",
       "      <th>birthMonth</th>\n",
       "      <th>...</th>\n",
       "      <th>debut</th>\n",
       "      <th>finalGame</th>\n",
       "      <th>retroID</th>\n",
       "      <th>bbrefID</th>\n",
       "      <th>asgYear</th>\n",
       "      <th>asgMth</th>\n",
       "      <th>asgDay</th>\n",
       "      <th>date_birth</th>\n",
       "      <th>date_as_game</th>\n",
       "      <th>age</th>\n",
       "    </tr>\n",
       "  </thead>\n",
       "  <tbody>\n",
       "    <tr>\n",
       "      <th>0</th>\n",
       "      <td>gomezle01</td>\n",
       "      <td>1933</td>\n",
       "      <td>0</td>\n",
       "      <td>ALS193307060</td>\n",
       "      <td>NYA</td>\n",
       "      <td>AL</td>\n",
       "      <td>1.0</td>\n",
       "      <td>1.0</td>\n",
       "      <td>1908</td>\n",
       "      <td>11</td>\n",
       "      <td>...</td>\n",
       "      <td>1930-04-29</td>\n",
       "      <td>1943-05-30</td>\n",
       "      <td>gomel102</td>\n",
       "      <td>gomezle01</td>\n",
       "      <td>1933</td>\n",
       "      <td>7</td>\n",
       "      <td>6</td>\n",
       "      <td>1908-11-26</td>\n",
       "      <td>1933-07-06</td>\n",
       "      <td>24.608308</td>\n",
       "    </tr>\n",
       "    <tr>\n",
       "      <th>1</th>\n",
       "      <td>ferreri01</td>\n",
       "      <td>1933</td>\n",
       "      <td>0</td>\n",
       "      <td>ALS193307060</td>\n",
       "      <td>BOS</td>\n",
       "      <td>AL</td>\n",
       "      <td>1.0</td>\n",
       "      <td>2.0</td>\n",
       "      <td>1905</td>\n",
       "      <td>10</td>\n",
       "      <td>...</td>\n",
       "      <td>1929-04-19</td>\n",
       "      <td>1947-09-14</td>\n",
       "      <td>ferrr101</td>\n",
       "      <td>ferreri01</td>\n",
       "      <td>1933</td>\n",
       "      <td>7</td>\n",
       "      <td>6</td>\n",
       "      <td>1905-10-12</td>\n",
       "      <td>1933-07-06</td>\n",
       "      <td>27.732260</td>\n",
       "    </tr>\n",
       "    <tr>\n",
       "      <th>2</th>\n",
       "      <td>gehrilo01</td>\n",
       "      <td>1933</td>\n",
       "      <td>0</td>\n",
       "      <td>ALS193307060</td>\n",
       "      <td>NYA</td>\n",
       "      <td>AL</td>\n",
       "      <td>1.0</td>\n",
       "      <td>3.0</td>\n",
       "      <td>1903</td>\n",
       "      <td>6</td>\n",
       "      <td>...</td>\n",
       "      <td>1923-06-15</td>\n",
       "      <td>1939-04-30</td>\n",
       "      <td>gehrl101</td>\n",
       "      <td>gehrilo01</td>\n",
       "      <td>1933</td>\n",
       "      <td>7</td>\n",
       "      <td>6</td>\n",
       "      <td>1903-06-19</td>\n",
       "      <td>1933-07-06</td>\n",
       "      <td>30.048529</td>\n",
       "    </tr>\n",
       "    <tr>\n",
       "      <th>3</th>\n",
       "      <td>gehrich01</td>\n",
       "      <td>1933</td>\n",
       "      <td>0</td>\n",
       "      <td>ALS193307060</td>\n",
       "      <td>DET</td>\n",
       "      <td>AL</td>\n",
       "      <td>1.0</td>\n",
       "      <td>4.0</td>\n",
       "      <td>1903</td>\n",
       "      <td>5</td>\n",
       "      <td>...</td>\n",
       "      <td>1924-09-22</td>\n",
       "      <td>1942-09-27</td>\n",
       "      <td>gehrc101</td>\n",
       "      <td>gehrich01</td>\n",
       "      <td>1933</td>\n",
       "      <td>7</td>\n",
       "      <td>6</td>\n",
       "      <td>1903-05-11</td>\n",
       "      <td>1933-07-06</td>\n",
       "      <td>30.155308</td>\n",
       "    </tr>\n",
       "    <tr>\n",
       "      <th>4</th>\n",
       "      <td>dykesji01</td>\n",
       "      <td>1933</td>\n",
       "      <td>0</td>\n",
       "      <td>ALS193307060</td>\n",
       "      <td>CHA</td>\n",
       "      <td>AL</td>\n",
       "      <td>1.0</td>\n",
       "      <td>5.0</td>\n",
       "      <td>1896</td>\n",
       "      <td>11</td>\n",
       "      <td>...</td>\n",
       "      <td>1918-05-06</td>\n",
       "      <td>1939-10-01</td>\n",
       "      <td>dykej101</td>\n",
       "      <td>dykesji01</td>\n",
       "      <td>1933</td>\n",
       "      <td>7</td>\n",
       "      <td>6</td>\n",
       "      <td>1896-11-10 00:00:00</td>\n",
       "      <td>1933-07-06</td>\n",
       "      <td>36.649623</td>\n",
       "    </tr>\n",
       "  </tbody>\n",
       "</table>\n",
       "<p>5 rows × 37 columns</p>\n",
       "</div>"
      ],
      "text/plain": [
       "    playerID  yearID  gameNum        gameID teamID lgID   GP  startingPos  \\\n",
       "0  gomezle01    1933        0  ALS193307060    NYA   AL  1.0          1.0   \n",
       "1  ferreri01    1933        0  ALS193307060    BOS   AL  1.0          2.0   \n",
       "2  gehrilo01    1933        0  ALS193307060    NYA   AL  1.0          3.0   \n",
       "3  gehrich01    1933        0  ALS193307060    DET   AL  1.0          4.0   \n",
       "4  dykesji01    1933        0  ALS193307060    CHA   AL  1.0          5.0   \n",
       "\n",
       "   birthYear  birthMonth    ...           debut   finalGame   retroID  \\\n",
       "0       1908          11    ...      1930-04-29  1943-05-30  gomel102   \n",
       "1       1905          10    ...      1929-04-19  1947-09-14  ferrr101   \n",
       "2       1903           6    ...      1923-06-15  1939-04-30  gehrl101   \n",
       "3       1903           5    ...      1924-09-22  1942-09-27  gehrc101   \n",
       "4       1896          11    ...      1918-05-06  1939-10-01  dykej101   \n",
       "\n",
       "     bbrefID  asgYear  asgMth  asgDay          date_birth date_as_game  \\\n",
       "0  gomezle01     1933       7       6          1908-11-26   1933-07-06   \n",
       "1  ferreri01     1933       7       6          1905-10-12   1933-07-06   \n",
       "2  gehrilo01     1933       7       6          1903-06-19   1933-07-06   \n",
       "3  gehrich01     1933       7       6          1903-05-11   1933-07-06   \n",
       "4  dykesji01     1933       7       6 1896-11-10 00:00:00   1933-07-06   \n",
       "\n",
       "         age  \n",
       "0  24.608308  \n",
       "1  27.732260  \n",
       "2  30.048529  \n",
       "3  30.155308  \n",
       "4  36.649623  \n",
       "\n",
       "[5 rows x 37 columns]"
      ]
     },
     "execution_count": 33,
     "metadata": {},
     "output_type": "execute_result"
    }
   ],
   "source": [
    "allstar_df.head()"
   ]
  },
  {
   "cell_type": "markdown",
   "metadata": {},
   "source": [
    "First, I plotted the avg, max and min of the age, height and weight of all-star players over the years."
   ]
  },
  {
   "cell_type": "code",
   "execution_count": 34,
   "metadata": {},
   "outputs": [
    {
     "data": {
      "image/png": "[encoded data removed]",
      "text/plain": [
       "<matplotlib.figure.Figure at 0xdaf03c8>"
      ]
     },
     "metadata": {},
     "output_type": "display_data"
    }
   ],
   "source": [
    "plot_groupby_mean_max_min(allstar_df, 'yearID', 'age', \n",
    "                         'Chart D: Age of all-star players', 'year',\n",
    "                         'age (years)')"
   ]
  },
  {
   "cell_type": "code",
   "execution_count": 35,
   "metadata": {},
   "outputs": [
    {
     "data": {
      "image/png": "[encoded data removed]",
      "text/plain": [
       "<matplotlib.figure.Figure at 0xce5b908>"
      ]
     },
     "metadata": {},
     "output_type": "display_data"
    }
   ],
   "source": [
    "plot_groupby_mean_max_min(allstar_df, 'yearID', 'height', \n",
    "                         'Chart E: Age of all-star players', 'year',\n",
    "                         'inches')"
   ]
  },
  {
   "cell_type": "code",
   "execution_count": 36,
   "metadata": {},
   "outputs": [
    {
     "data": {
      "image/png": "[encoded data removed]",
      "text/plain": [
       "<matplotlib.figure.Figure at 0xca8c390>"
      ]
     },
     "metadata": {},
     "output_type": "display_data"
    }
   ],
   "source": [
    "plot_groupby_mean_max_min(allstar_df, 'yearID', 'weight', \n",
    "                         'Chart F: Age of all-star players', 'year',\n",
    "                         'pounds')"
   ]
  },
  {
   "cell_type": "code",
   "execution_count": 37,
   "metadata": {},
   "outputs": [
    {
     "name": "stdout",
     "output_type": "stream",
     "text": [
      "29.4536650989\n",
      "72.9262763299\n",
      "191.929489468\n"
     ]
    }
   ],
   "source": [
    "print allstar_df['age'].mean()\n",
    "print allstar_df['height'].mean()\n",
    "print allstar_df['weight'].mean()"
   ]
  },
  {
   "cell_type": "markdown",
   "metadata": {},
   "source": [
    "It is interesting that while the average age of all-star players' ages have averaged consistently at around 29 years, heights and weights of the players have increased over the years.  For example, average age of all-star players in 1980 were 30 years old while they were 29 year old in 2016.  Meanwhile, average height increased from 73 inches to 74 inches and average weight jumped from 187 pounds to 218 pounds in the same period."
   ]
  },
  {
   "cell_type": "markdown",
   "metadata": {},
   "source": [
    "As I did some more work later on, I noticed that the trends were more visible on the plots if the max and the min are not included. This is because the line would be shown in a smaller range.  Below charts clearly show that the average age for all-stars have been fairly range-bound, while there are rising trends for heights and weights."
   ]
  },
  {
   "cell_type": "code",
   "execution_count": 38,
   "metadata": {
    "collapsed": true
   },
   "outputs": [],
   "source": [
    "def plot_groupby_mean(datalist, grp, colname, ptitle, pxlabel, pylabel):\n",
    "\n",
    "    # plot the mean of datalist grouped by grp for column colname\n",
    "    # datalist has data\n",
    "    # grp is the field to groupby\n",
    "    # colname is the field to chart\n",
    "    # ptitle is the plot title\n",
    "    # pxlabel is the plot xlabel\n",
    "    # pylabel is the plot ylabel\n",
    "    \n",
    "    datalist_group = datalist.groupby(grp)\n",
    "    data_mean = datalist_group[colname].mean()\n",
    "    \n",
    "    plt.plot(data_mean, label='mean')\n",
    "    plt.title(ptitle)\n",
    "    plt.xlabel(pxlabel)\n",
    "    plt.ylabel(pylabel)    \n",
    "    plt.legend(loc='upper left')\n",
    "    \n",
    "    return None"
   ]
  },
  {
   "cell_type": "code",
   "execution_count": 39,
   "metadata": {},
   "outputs": [
    {
     "data": {
      "image/png": "[encoded data removed]",
      "text/plain": [
       "<matplotlib.figure.Figure at 0xcabe0b8>"
      ]
     },
     "metadata": {},
     "output_type": "display_data"
    }
   ],
   "source": [
    "plot_groupby_mean(allstar_df, 'yearID', 'age', \n",
    "                  'Chart D2: Age of all-star players', 'year',\n",
    "                  'age (years)')"
   ]
  },
  {
   "cell_type": "code",
   "execution_count": 40,
   "metadata": {},
   "outputs": [
    {
     "data": {
      "image/png": "[encoded data removed]",
      "text/plain": [
       "<matplotlib.figure.Figure at 0xe1a2710>"
      ]
     },
     "metadata": {},
     "output_type": "display_data"
    }
   ],
   "source": [
    "plot_groupby_mean(allstar_df, 'yearID', 'height', \n",
    "                  'Chart E2: Height of all-star players', 'year',\n",
    "                  'age (years)')"
   ]
  },
  {
   "cell_type": "code",
   "execution_count": 41,
   "metadata": {},
   "outputs": [
    {
     "data": {
      "image/png": "[encoded data removed]",
      "text/plain": [
       "<matplotlib.figure.Figure at 0xe76b438>"
      ]
     },
     "metadata": {},
     "output_type": "display_data"
    }
   ],
   "source": [
    "plot_groupby_mean(allstar_df, 'yearID', 'weight', \n",
    "                  'Chart F2: Weight of all-star players', 'year',\n",
    "                  'age (years)')"
   ]
  },
  {
   "cell_type": "markdown",
   "metadata": {},
   "source": [
    "I thought it would be interesting to compare the average age, heights and weights of all-star players to all of the mlb players.  To compute the data for all players, I used Appearances.csv, which has games played data for all players in Major League Baseball.  Similarly as the all-star data, I then merged this to master_df, which has data on players' attributes."
   ]
  },
  {
   "cell_type": "code",
   "execution_count": 42,
   "metadata": {},
   "outputs": [
    {
     "data": {
      "text/html": [
       "<div>\n",
       "<style>\n",
       "    .dataframe thead tr:only-child th {\n",
       "        text-align: right;\n",
       "    }\n",
       "\n",
       "    .dataframe thead th {\n",
       "        text-align: left;\n",
       "    }\n",
       "\n",
       "    .dataframe tbody tr th {\n",
       "        vertical-align: top;\n",
       "    }\n",
       "</style>\n",
       "<table border=\"1\" class=\"dataframe\">\n",
       "  <thead>\n",
       "    <tr style=\"text-align: right;\">\n",
       "      <th></th>\n",
       "      <th>yearID</th>\n",
       "      <th>teamID</th>\n",
       "      <th>lgID</th>\n",
       "      <th>playerID</th>\n",
       "      <th>G_all</th>\n",
       "      <th>GS</th>\n",
       "      <th>G_batting</th>\n",
       "      <th>G_defense</th>\n",
       "      <th>G_p</th>\n",
       "      <th>G_c</th>\n",
       "      <th>...</th>\n",
       "      <th>G_2b</th>\n",
       "      <th>G_3b</th>\n",
       "      <th>G_ss</th>\n",
       "      <th>G_lf</th>\n",
       "      <th>G_cf</th>\n",
       "      <th>G_rf</th>\n",
       "      <th>G_of</th>\n",
       "      <th>G_dh</th>\n",
       "      <th>G_ph</th>\n",
       "      <th>G_pr</th>\n",
       "    </tr>\n",
       "  </thead>\n",
       "  <tbody>\n",
       "    <tr>\n",
       "      <th>0</th>\n",
       "      <td>1871</td>\n",
       "      <td>TRO</td>\n",
       "      <td>NaN</td>\n",
       "      <td>abercda01</td>\n",
       "      <td>1</td>\n",
       "      <td>NaN</td>\n",
       "      <td>1</td>\n",
       "      <td>1</td>\n",
       "      <td>0</td>\n",
       "      <td>0</td>\n",
       "      <td>...</td>\n",
       "      <td>0</td>\n",
       "      <td>0</td>\n",
       "      <td>1</td>\n",
       "      <td>0</td>\n",
       "      <td>0</td>\n",
       "      <td>0</td>\n",
       "      <td>0</td>\n",
       "      <td>NaN</td>\n",
       "      <td>NaN</td>\n",
       "      <td>NaN</td>\n",
       "    </tr>\n",
       "    <tr>\n",
       "      <th>1</th>\n",
       "      <td>1871</td>\n",
       "      <td>RC1</td>\n",
       "      <td>NaN</td>\n",
       "      <td>addybo01</td>\n",
       "      <td>25</td>\n",
       "      <td>NaN</td>\n",
       "      <td>25</td>\n",
       "      <td>25</td>\n",
       "      <td>0</td>\n",
       "      <td>0</td>\n",
       "      <td>...</td>\n",
       "      <td>22</td>\n",
       "      <td>0</td>\n",
       "      <td>3</td>\n",
       "      <td>0</td>\n",
       "      <td>0</td>\n",
       "      <td>0</td>\n",
       "      <td>0</td>\n",
       "      <td>NaN</td>\n",
       "      <td>NaN</td>\n",
       "      <td>NaN</td>\n",
       "    </tr>\n",
       "    <tr>\n",
       "      <th>2</th>\n",
       "      <td>1871</td>\n",
       "      <td>CL1</td>\n",
       "      <td>NaN</td>\n",
       "      <td>allisar01</td>\n",
       "      <td>29</td>\n",
       "      <td>NaN</td>\n",
       "      <td>29</td>\n",
       "      <td>29</td>\n",
       "      <td>0</td>\n",
       "      <td>0</td>\n",
       "      <td>...</td>\n",
       "      <td>2</td>\n",
       "      <td>0</td>\n",
       "      <td>0</td>\n",
       "      <td>0</td>\n",
       "      <td>29</td>\n",
       "      <td>0</td>\n",
       "      <td>29</td>\n",
       "      <td>NaN</td>\n",
       "      <td>NaN</td>\n",
       "      <td>NaN</td>\n",
       "    </tr>\n",
       "    <tr>\n",
       "      <th>3</th>\n",
       "      <td>1871</td>\n",
       "      <td>WS3</td>\n",
       "      <td>NaN</td>\n",
       "      <td>allisdo01</td>\n",
       "      <td>27</td>\n",
       "      <td>NaN</td>\n",
       "      <td>27</td>\n",
       "      <td>27</td>\n",
       "      <td>0</td>\n",
       "      <td>27</td>\n",
       "      <td>...</td>\n",
       "      <td>0</td>\n",
       "      <td>0</td>\n",
       "      <td>0</td>\n",
       "      <td>0</td>\n",
       "      <td>0</td>\n",
       "      <td>0</td>\n",
       "      <td>0</td>\n",
       "      <td>NaN</td>\n",
       "      <td>NaN</td>\n",
       "      <td>NaN</td>\n",
       "    </tr>\n",
       "    <tr>\n",
       "      <th>4</th>\n",
       "      <td>1871</td>\n",
       "      <td>RC1</td>\n",
       "      <td>NaN</td>\n",
       "      <td>ansonca01</td>\n",
       "      <td>25</td>\n",
       "      <td>NaN</td>\n",
       "      <td>25</td>\n",
       "      <td>25</td>\n",
       "      <td>0</td>\n",
       "      <td>5</td>\n",
       "      <td>...</td>\n",
       "      <td>2</td>\n",
       "      <td>20</td>\n",
       "      <td>0</td>\n",
       "      <td>1</td>\n",
       "      <td>0</td>\n",
       "      <td>0</td>\n",
       "      <td>1</td>\n",
       "      <td>NaN</td>\n",
       "      <td>NaN</td>\n",
       "      <td>NaN</td>\n",
       "    </tr>\n",
       "  </tbody>\n",
       "</table>\n",
       "<p>5 rows × 21 columns</p>\n",
       "</div>"
      ],
      "text/plain": [
       "   yearID teamID lgID   playerID  G_all  GS  G_batting  G_defense  G_p  G_c  \\\n",
       "0    1871    TRO  NaN  abercda01      1 NaN          1          1    0    0   \n",
       "1    1871    RC1  NaN   addybo01     25 NaN         25         25    0    0   \n",
       "2    1871    CL1  NaN  allisar01     29 NaN         29         29    0    0   \n",
       "3    1871    WS3  NaN  allisdo01     27 NaN         27         27    0   27   \n",
       "4    1871    RC1  NaN  ansonca01     25 NaN         25         25    0    5   \n",
       "\n",
       "   ...   G_2b  G_3b  G_ss  G_lf  G_cf  G_rf  G_of  G_dh  G_ph  G_pr  \n",
       "0  ...      0     0     1     0     0     0     0   NaN   NaN   NaN  \n",
       "1  ...     22     0     3     0     0     0     0   NaN   NaN   NaN  \n",
       "2  ...      2     0     0     0    29     0    29   NaN   NaN   NaN  \n",
       "3  ...      0     0     0     0     0     0     0   NaN   NaN   NaN  \n",
       "4  ...      2    20     0     1     0     0     1   NaN   NaN   NaN  \n",
       "\n",
       "[5 rows x 21 columns]"
      ]
     },
     "execution_count": 42,
     "metadata": {},
     "output_type": "execute_result"
    }
   ],
   "source": [
    "appearances_df = pd.read_csv('Appearances.csv')\n",
    "appearances_df.head()"
   ]
  },
  {
   "cell_type": "code",
   "execution_count": 43,
   "metadata": {},
   "outputs": [
    {
     "data": {
      "text/html": [
       "<div>\n",
       "<style>\n",
       "    .dataframe thead tr:only-child th {\n",
       "        text-align: right;\n",
       "    }\n",
       "\n",
       "    .dataframe thead th {\n",
       "        text-align: left;\n",
       "    }\n",
       "\n",
       "    .dataframe tbody tr th {\n",
       "        vertical-align: top;\n",
       "    }\n",
       "</style>\n",
       "<table border=\"1\" class=\"dataframe\">\n",
       "  <thead>\n",
       "    <tr style=\"text-align: right;\">\n",
       "      <th></th>\n",
       "      <th>yearID</th>\n",
       "      <th>teamID</th>\n",
       "      <th>lgID</th>\n",
       "      <th>playerID</th>\n",
       "      <th>G_all</th>\n",
       "      <th>GS</th>\n",
       "      <th>G_batting</th>\n",
       "      <th>G_defense</th>\n",
       "      <th>G_p</th>\n",
       "      <th>G_c</th>\n",
       "      <th>...</th>\n",
       "      <th>nameLast</th>\n",
       "      <th>nameGiven</th>\n",
       "      <th>weight</th>\n",
       "      <th>height</th>\n",
       "      <th>bats</th>\n",
       "      <th>throws</th>\n",
       "      <th>debut</th>\n",
       "      <th>finalGame</th>\n",
       "      <th>retroID</th>\n",
       "      <th>bbrefID</th>\n",
       "    </tr>\n",
       "  </thead>\n",
       "  <tbody>\n",
       "    <tr>\n",
       "      <th>0</th>\n",
       "      <td>1933</td>\n",
       "      <td>CIN</td>\n",
       "      <td>NL</td>\n",
       "      <td>adamssp01</td>\n",
       "      <td>137</td>\n",
       "      <td>134.0</td>\n",
       "      <td>137</td>\n",
       "      <td>137</td>\n",
       "      <td>0</td>\n",
       "      <td>0</td>\n",
       "      <td>...</td>\n",
       "      <td>Adams</td>\n",
       "      <td>Earl John</td>\n",
       "      <td>151.0</td>\n",
       "      <td>65.0</td>\n",
       "      <td>R</td>\n",
       "      <td>R</td>\n",
       "      <td>1922-09-18</td>\n",
       "      <td>1934-09-30</td>\n",
       "      <td>adams101</td>\n",
       "      <td>adamssp01</td>\n",
       "    </tr>\n",
       "    <tr>\n",
       "      <th>1</th>\n",
       "      <td>1933</td>\n",
       "      <td>SLN</td>\n",
       "      <td>NL</td>\n",
       "      <td>adamssp01</td>\n",
       "      <td>8</td>\n",
       "      <td>8.0</td>\n",
       "      <td>8</td>\n",
       "      <td>8</td>\n",
       "      <td>0</td>\n",
       "      <td>0</td>\n",
       "      <td>...</td>\n",
       "      <td>Adams</td>\n",
       "      <td>Earl John</td>\n",
       "      <td>151.0</td>\n",
       "      <td>65.0</td>\n",
       "      <td>R</td>\n",
       "      <td>R</td>\n",
       "      <td>1922-09-18</td>\n",
       "      <td>1934-09-30</td>\n",
       "      <td>adams101</td>\n",
       "      <td>adamssp01</td>\n",
       "    </tr>\n",
       "    <tr>\n",
       "      <th>2</th>\n",
       "      <td>1934</td>\n",
       "      <td>CIN</td>\n",
       "      <td>NL</td>\n",
       "      <td>adamssp01</td>\n",
       "      <td>87</td>\n",
       "      <td>61.0</td>\n",
       "      <td>87</td>\n",
       "      <td>67</td>\n",
       "      <td>0</td>\n",
       "      <td>0</td>\n",
       "      <td>...</td>\n",
       "      <td>Adams</td>\n",
       "      <td>Earl John</td>\n",
       "      <td>151.0</td>\n",
       "      <td>65.0</td>\n",
       "      <td>R</td>\n",
       "      <td>R</td>\n",
       "      <td>1922-09-18</td>\n",
       "      <td>1934-09-30</td>\n",
       "      <td>adams101</td>\n",
       "      <td>adamssp01</td>\n",
       "    </tr>\n",
       "    <tr>\n",
       "      <th>3</th>\n",
       "      <td>1933</td>\n",
       "      <td>BOS</td>\n",
       "      <td>AL</td>\n",
       "      <td>alexada01</td>\n",
       "      <td>94</td>\n",
       "      <td>75.0</td>\n",
       "      <td>94</td>\n",
       "      <td>78</td>\n",
       "      <td>0</td>\n",
       "      <td>0</td>\n",
       "      <td>...</td>\n",
       "      <td>Alexander</td>\n",
       "      <td>David Dale</td>\n",
       "      <td>210.0</td>\n",
       "      <td>75.0</td>\n",
       "      <td>R</td>\n",
       "      <td>R</td>\n",
       "      <td>1929-04-16</td>\n",
       "      <td>1933-09-23</td>\n",
       "      <td>alexd101</td>\n",
       "      <td>alexada01</td>\n",
       "    </tr>\n",
       "    <tr>\n",
       "      <th>4</th>\n",
       "      <td>1933</td>\n",
       "      <td>SLN</td>\n",
       "      <td>NL</td>\n",
       "      <td>allenet01</td>\n",
       "      <td>91</td>\n",
       "      <td>58.0</td>\n",
       "      <td>91</td>\n",
       "      <td>67</td>\n",
       "      <td>0</td>\n",
       "      <td>0</td>\n",
       "      <td>...</td>\n",
       "      <td>Allen</td>\n",
       "      <td>Ethan Nathan</td>\n",
       "      <td>180.0</td>\n",
       "      <td>73.0</td>\n",
       "      <td>R</td>\n",
       "      <td>R</td>\n",
       "      <td>1926-06-13</td>\n",
       "      <td>1938-06-18</td>\n",
       "      <td>allee101</td>\n",
       "      <td>allenet01</td>\n",
       "    </tr>\n",
       "  </tbody>\n",
       "</table>\n",
       "<p>5 rows × 44 columns</p>\n",
       "</div>"
      ],
      "text/plain": [
       "   yearID teamID lgID   playerID  G_all     GS  G_batting  G_defense  G_p  \\\n",
       "0    1933    CIN   NL  adamssp01    137  134.0        137        137    0   \n",
       "1    1933    SLN   NL  adamssp01      8    8.0          8          8    0   \n",
       "2    1934    CIN   NL  adamssp01     87   61.0         87         67    0   \n",
       "3    1933    BOS   AL  alexada01     94   75.0         94         78    0   \n",
       "4    1933    SLN   NL  allenet01     91   58.0         91         67    0   \n",
       "\n",
       "   G_c    ...       nameLast     nameGiven  weight  height  bats  throws  \\\n",
       "0    0    ...          Adams     Earl John   151.0    65.0     R       R   \n",
       "1    0    ...          Adams     Earl John   151.0    65.0     R       R   \n",
       "2    0    ...          Adams     Earl John   151.0    65.0     R       R   \n",
       "3    0    ...      Alexander    David Dale   210.0    75.0     R       R   \n",
       "4    0    ...          Allen  Ethan Nathan   180.0    73.0     R       R   \n",
       "\n",
       "        debut   finalGame   retroID    bbrefID  \n",
       "0  1922-09-18  1934-09-30  adams101  adamssp01  \n",
       "1  1922-09-18  1934-09-30  adams101  adamssp01  \n",
       "2  1922-09-18  1934-09-30  adams101  adamssp01  \n",
       "3  1929-04-16  1933-09-23  alexd101  alexada01  \n",
       "4  1926-06-13  1938-06-18  allee101  allenet01  \n",
       "\n",
       "[5 rows x 44 columns]"
      ]
     },
     "execution_count": 43,
     "metadata": {},
     "output_type": "execute_result"
    }
   ],
   "source": [
    "allplayer_df = appearances_df[appearances_df.yearID >= 1933].merge(master_df, on=['playerID'], how='inner')\n",
    "allplayer_df.head()"
   ]
  },
  {
   "cell_type": "markdown",
   "metadata": {},
   "source": [
    "Since the baseball season lasts from March/April to October, I decided to use the all-star game date as the anchor date to compute the player's age.  This would make the all-stars' and all players' data consistent as well."
   ]
  },
  {
   "cell_type": "code",
   "execution_count": 44,
   "metadata": {
    "collapsed": true
   },
   "outputs": [],
   "source": [
    "allplayer_df = allplayer_df.merge(asgDates_df, left_on=['yearID'], right_on=['asgYear'], how='inner')"
   ]
  },
  {
   "cell_type": "code",
   "execution_count": 45,
   "metadata": {},
   "outputs": [
    {
     "data": {
      "text/html": [
       "<div>\n",
       "<style>\n",
       "    .dataframe thead tr:only-child th {\n",
       "        text-align: right;\n",
       "    }\n",
       "\n",
       "    .dataframe thead th {\n",
       "        text-align: left;\n",
       "    }\n",
       "\n",
       "    .dataframe tbody tr th {\n",
       "        vertical-align: top;\n",
       "    }\n",
       "</style>\n",
       "<table border=\"1\" class=\"dataframe\">\n",
       "  <thead>\n",
       "    <tr style=\"text-align: right;\">\n",
       "      <th></th>\n",
       "      <th>yearID</th>\n",
       "      <th>teamID</th>\n",
       "      <th>lgID</th>\n",
       "      <th>playerID</th>\n",
       "      <th>G_all</th>\n",
       "      <th>GS</th>\n",
       "      <th>G_batting</th>\n",
       "      <th>G_defense</th>\n",
       "      <th>G_p</th>\n",
       "      <th>G_c</th>\n",
       "      <th>...</th>\n",
       "      <th>height</th>\n",
       "      <th>bats</th>\n",
       "      <th>throws</th>\n",
       "      <th>debut</th>\n",
       "      <th>finalGame</th>\n",
       "      <th>retroID</th>\n",
       "      <th>bbrefID</th>\n",
       "      <th>asgYear</th>\n",
       "      <th>asgMth</th>\n",
       "      <th>asgDay</th>\n",
       "    </tr>\n",
       "  </thead>\n",
       "  <tbody>\n",
       "    <tr>\n",
       "      <th>0</th>\n",
       "      <td>1933</td>\n",
       "      <td>CIN</td>\n",
       "      <td>NL</td>\n",
       "      <td>adamssp01</td>\n",
       "      <td>137</td>\n",
       "      <td>134.0</td>\n",
       "      <td>137</td>\n",
       "      <td>137</td>\n",
       "      <td>0</td>\n",
       "      <td>0</td>\n",
       "      <td>...</td>\n",
       "      <td>65.0</td>\n",
       "      <td>R</td>\n",
       "      <td>R</td>\n",
       "      <td>1922-09-18</td>\n",
       "      <td>1934-09-30</td>\n",
       "      <td>adams101</td>\n",
       "      <td>adamssp01</td>\n",
       "      <td>1933</td>\n",
       "      <td>7</td>\n",
       "      <td>6</td>\n",
       "    </tr>\n",
       "    <tr>\n",
       "      <th>1</th>\n",
       "      <td>1933</td>\n",
       "      <td>SLN</td>\n",
       "      <td>NL</td>\n",
       "      <td>adamssp01</td>\n",
       "      <td>8</td>\n",
       "      <td>8.0</td>\n",
       "      <td>8</td>\n",
       "      <td>8</td>\n",
       "      <td>0</td>\n",
       "      <td>0</td>\n",
       "      <td>...</td>\n",
       "      <td>65.0</td>\n",
       "      <td>R</td>\n",
       "      <td>R</td>\n",
       "      <td>1922-09-18</td>\n",
       "      <td>1934-09-30</td>\n",
       "      <td>adams101</td>\n",
       "      <td>adamssp01</td>\n",
       "      <td>1933</td>\n",
       "      <td>7</td>\n",
       "      <td>6</td>\n",
       "    </tr>\n",
       "    <tr>\n",
       "      <th>2</th>\n",
       "      <td>1933</td>\n",
       "      <td>BOS</td>\n",
       "      <td>AL</td>\n",
       "      <td>alexada01</td>\n",
       "      <td>94</td>\n",
       "      <td>75.0</td>\n",
       "      <td>94</td>\n",
       "      <td>78</td>\n",
       "      <td>0</td>\n",
       "      <td>0</td>\n",
       "      <td>...</td>\n",
       "      <td>75.0</td>\n",
       "      <td>R</td>\n",
       "      <td>R</td>\n",
       "      <td>1929-04-16</td>\n",
       "      <td>1933-09-23</td>\n",
       "      <td>alexd101</td>\n",
       "      <td>alexada01</td>\n",
       "      <td>1933</td>\n",
       "      <td>7</td>\n",
       "      <td>6</td>\n",
       "    </tr>\n",
       "    <tr>\n",
       "      <th>3</th>\n",
       "      <td>1933</td>\n",
       "      <td>SLN</td>\n",
       "      <td>NL</td>\n",
       "      <td>allenet01</td>\n",
       "      <td>91</td>\n",
       "      <td>58.0</td>\n",
       "      <td>91</td>\n",
       "      <td>67</td>\n",
       "      <td>0</td>\n",
       "      <td>0</td>\n",
       "      <td>...</td>\n",
       "      <td>73.0</td>\n",
       "      <td>R</td>\n",
       "      <td>R</td>\n",
       "      <td>1926-06-13</td>\n",
       "      <td>1938-06-18</td>\n",
       "      <td>allee101</td>\n",
       "      <td>allenet01</td>\n",
       "      <td>1933</td>\n",
       "      <td>7</td>\n",
       "      <td>6</td>\n",
       "    </tr>\n",
       "    <tr>\n",
       "      <th>4</th>\n",
       "      <td>1933</td>\n",
       "      <td>NYA</td>\n",
       "      <td>AL</td>\n",
       "      <td>allenjo02</td>\n",
       "      <td>25</td>\n",
       "      <td>24.0</td>\n",
       "      <td>25</td>\n",
       "      <td>25</td>\n",
       "      <td>25</td>\n",
       "      <td>0</td>\n",
       "      <td>...</td>\n",
       "      <td>72.0</td>\n",
       "      <td>R</td>\n",
       "      <td>R</td>\n",
       "      <td>1932-04-19</td>\n",
       "      <td>1944-09-26</td>\n",
       "      <td>allej102</td>\n",
       "      <td>allenjo02</td>\n",
       "      <td>1933</td>\n",
       "      <td>7</td>\n",
       "      <td>6</td>\n",
       "    </tr>\n",
       "  </tbody>\n",
       "</table>\n",
       "<p>5 rows × 47 columns</p>\n",
       "</div>"
      ],
      "text/plain": [
       "   yearID teamID lgID   playerID  G_all     GS  G_batting  G_defense  G_p  \\\n",
       "0    1933    CIN   NL  adamssp01    137  134.0        137        137    0   \n",
       "1    1933    SLN   NL  adamssp01      8    8.0          8          8    0   \n",
       "2    1933    BOS   AL  alexada01     94   75.0         94         78    0   \n",
       "3    1933    SLN   NL  allenet01     91   58.0         91         67    0   \n",
       "4    1933    NYA   AL  allenjo02     25   24.0         25         25   25   \n",
       "\n",
       "   G_c   ...    height  bats  throws       debut   finalGame   retroID  \\\n",
       "0    0   ...      65.0     R       R  1922-09-18  1934-09-30  adams101   \n",
       "1    0   ...      65.0     R       R  1922-09-18  1934-09-30  adams101   \n",
       "2    0   ...      75.0     R       R  1929-04-16  1933-09-23  alexd101   \n",
       "3    0   ...      73.0     R       R  1926-06-13  1938-06-18  allee101   \n",
       "4    0   ...      72.0     R       R  1932-04-19  1944-09-26  allej102   \n",
       "\n",
       "     bbrefID  asgYear  asgMth  asgDay  \n",
       "0  adamssp01     1933       7       6  \n",
       "1  adamssp01     1933       7       6  \n",
       "2  alexada01     1933       7       6  \n",
       "3  allenet01     1933       7       6  \n",
       "4  allenjo02     1933       7       6  \n",
       "\n",
       "[5 rows x 47 columns]"
      ]
     },
     "execution_count": 45,
     "metadata": {},
     "output_type": "execute_result"
    }
   ],
   "source": [
    "allplayer_df.head()"
   ]
  },
  {
   "cell_type": "markdown",
   "metadata": {},
   "source": [
    "Checking for missing values (Due to redundancies, I am only showing a couple of checks.)"
   ]
  },
  {
   "cell_type": "code",
   "execution_count": 46,
   "metadata": {},
   "outputs": [
    {
     "name": "stdout",
     "output_type": "stream",
     "text": [
      "num of rows:  80497\n",
      "num of values:  80497\n",
      "num of missing values:  0\n"
     ]
    },
    {
     "data": {
      "text/plain": [
       "0"
      ]
     },
     "execution_count": 46,
     "metadata": {},
     "output_type": "execute_result"
    }
   ],
   "source": [
    "number_of_NaN(allplayer_df,'birthMonth')"
   ]
  },
  {
   "cell_type": "code",
   "execution_count": 47,
   "metadata": {},
   "outputs": [
    {
     "name": "stdout",
     "output_type": "stream",
     "text": [
      "num of rows:  80497\n",
      "num of values:  80497\n",
      "num of missing values:  0\n"
     ]
    },
    {
     "data": {
      "text/plain": [
       "0"
      ]
     },
     "execution_count": 47,
     "metadata": {},
     "output_type": "execute_result"
    }
   ],
   "source": [
    "number_of_NaN(allplayer_df,'birthYear')"
   ]
  },
  {
   "cell_type": "code",
   "execution_count": 48,
   "metadata": {},
   "outputs": [
    {
     "name": "stdout",
     "output_type": "stream",
     "text": [
      "num of rows:  80497\n",
      "num of values:  80497\n",
      "num of missing values:  0\n"
     ]
    },
    {
     "data": {
      "text/plain": [
       "0"
      ]
     },
     "execution_count": 48,
     "metadata": {},
     "output_type": "execute_result"
    }
   ],
   "source": [
    "number_of_NaN(allplayer_df,'asgYear')"
   ]
  },
  {
   "cell_type": "code",
   "execution_count": 49,
   "metadata": {},
   "outputs": [
    {
     "name": "stdout",
     "output_type": "stream",
     "text": [
      "1\n"
     ]
    }
   ],
   "source": [
    "print allplayer_df['G_all'].min()"
   ]
  },
  {
   "cell_type": "markdown",
   "metadata": {},
   "source": [
    "Computing ages"
   ]
  },
  {
   "cell_type": "code",
   "execution_count": 50,
   "metadata": {
    "collapsed": true
   },
   "outputs": [],
   "source": [
    "allplayer_df.birthYear = allplayer_df.birthYear.astype(int)\n",
    "allplayer_df.birthMonth = allplayer_df.birthMonth.astype(int)\n",
    "allplayer_df.birthDay = allplayer_df.birthDay.astype(int)\n",
    "allplayer_df.yearID = allplayer_df.yearID.astype(int)"
   ]
  },
  {
   "cell_type": "code",
   "execution_count": 51,
   "metadata": {
    "collapsed": true
   },
   "outputs": [],
   "source": [
    "allplayer_df['date_birth'] = allplayer_df['birthYear'].astype(str) + '-' + allplayer_df['birthMonth'].astype(str) + '-' + allplayer_df['birthDay'].astype(str)\n",
    "allplayer_df['date_birth'] = pd.to_datetime(allplayer_df['date_birth'])"
   ]
  },
  {
   "cell_type": "code",
   "execution_count": 52,
   "metadata": {
    "collapsed": true
   },
   "outputs": [],
   "source": [
    "allplayer_df['date_as_game'] = allplayer_df['yearID'].astype(str) + '-' + allplayer_df['asgMth'].astype(str) + '-' + allplayer_df['asgDay'].astype(str)\n",
    "allplayer_df['date_as_game'] = pd.to_datetime(allplayer_df['date_as_game'])"
   ]
  },
  {
   "cell_type": "code",
   "execution_count": 53,
   "metadata": {
    "collapsed": true
   },
   "outputs": [],
   "source": [
    "allplayer_df['age'] = (allplayer_df['date_as_game'] - allplayer_df['date_birth']) / np.timedelta64(1,'Y')"
   ]
  },
  {
   "cell_type": "code",
   "execution_count": 54,
   "metadata": {},
   "outputs": [
    {
     "data": {
      "text/html": [
       "<div>\n",
       "<style>\n",
       "    .dataframe thead tr:only-child th {\n",
       "        text-align: right;\n",
       "    }\n",
       "\n",
       "    .dataframe thead th {\n",
       "        text-align: left;\n",
       "    }\n",
       "\n",
       "    .dataframe tbody tr th {\n",
       "        vertical-align: top;\n",
       "    }\n",
       "</style>\n",
       "<table border=\"1\" class=\"dataframe\">\n",
       "  <thead>\n",
       "    <tr style=\"text-align: right;\">\n",
       "      <th></th>\n",
       "      <th>yearID</th>\n",
       "      <th>teamID</th>\n",
       "      <th>lgID</th>\n",
       "      <th>playerID</th>\n",
       "      <th>G_all</th>\n",
       "      <th>GS</th>\n",
       "      <th>G_batting</th>\n",
       "      <th>G_defense</th>\n",
       "      <th>G_p</th>\n",
       "      <th>G_c</th>\n",
       "      <th>...</th>\n",
       "      <th>debut</th>\n",
       "      <th>finalGame</th>\n",
       "      <th>retroID</th>\n",
       "      <th>bbrefID</th>\n",
       "      <th>asgYear</th>\n",
       "      <th>asgMth</th>\n",
       "      <th>asgDay</th>\n",
       "      <th>date_birth</th>\n",
       "      <th>date_as_game</th>\n",
       "      <th>age</th>\n",
       "    </tr>\n",
       "  </thead>\n",
       "  <tbody>\n",
       "    <tr>\n",
       "      <th>0</th>\n",
       "      <td>1933</td>\n",
       "      <td>CIN</td>\n",
       "      <td>NL</td>\n",
       "      <td>adamssp01</td>\n",
       "      <td>137</td>\n",
       "      <td>134.0</td>\n",
       "      <td>137</td>\n",
       "      <td>137</td>\n",
       "      <td>0</td>\n",
       "      <td>0</td>\n",
       "      <td>...</td>\n",
       "      <td>1922-09-18</td>\n",
       "      <td>1934-09-30</td>\n",
       "      <td>adams101</td>\n",
       "      <td>adamssp01</td>\n",
       "      <td>1933</td>\n",
       "      <td>7</td>\n",
       "      <td>6</td>\n",
       "      <td>1894-08-26 00:00:00</td>\n",
       "      <td>1933-07-06</td>\n",
       "      <td>38.859114</td>\n",
       "    </tr>\n",
       "    <tr>\n",
       "      <th>1</th>\n",
       "      <td>1933</td>\n",
       "      <td>SLN</td>\n",
       "      <td>NL</td>\n",
       "      <td>adamssp01</td>\n",
       "      <td>8</td>\n",
       "      <td>8.0</td>\n",
       "      <td>8</td>\n",
       "      <td>8</td>\n",
       "      <td>0</td>\n",
       "      <td>0</td>\n",
       "      <td>...</td>\n",
       "      <td>1922-09-18</td>\n",
       "      <td>1934-09-30</td>\n",
       "      <td>adams101</td>\n",
       "      <td>adamssp01</td>\n",
       "      <td>1933</td>\n",
       "      <td>7</td>\n",
       "      <td>6</td>\n",
       "      <td>1894-08-26 00:00:00</td>\n",
       "      <td>1933-07-06</td>\n",
       "      <td>38.859114</td>\n",
       "    </tr>\n",
       "    <tr>\n",
       "      <th>2</th>\n",
       "      <td>1933</td>\n",
       "      <td>BOS</td>\n",
       "      <td>AL</td>\n",
       "      <td>alexada01</td>\n",
       "      <td>94</td>\n",
       "      <td>75.0</td>\n",
       "      <td>94</td>\n",
       "      <td>78</td>\n",
       "      <td>0</td>\n",
       "      <td>0</td>\n",
       "      <td>...</td>\n",
       "      <td>1929-04-16</td>\n",
       "      <td>1933-09-23</td>\n",
       "      <td>alexd101</td>\n",
       "      <td>alexada01</td>\n",
       "      <td>1933</td>\n",
       "      <td>7</td>\n",
       "      <td>6</td>\n",
       "      <td>1903-04-26</td>\n",
       "      <td>1933-07-06</td>\n",
       "      <td>30.196376</td>\n",
       "    </tr>\n",
       "    <tr>\n",
       "      <th>3</th>\n",
       "      <td>1933</td>\n",
       "      <td>SLN</td>\n",
       "      <td>NL</td>\n",
       "      <td>allenet01</td>\n",
       "      <td>91</td>\n",
       "      <td>58.0</td>\n",
       "      <td>91</td>\n",
       "      <td>67</td>\n",
       "      <td>0</td>\n",
       "      <td>0</td>\n",
       "      <td>...</td>\n",
       "      <td>1926-06-13</td>\n",
       "      <td>1938-06-18</td>\n",
       "      <td>allee101</td>\n",
       "      <td>allenet01</td>\n",
       "      <td>1933</td>\n",
       "      <td>7</td>\n",
       "      <td>6</td>\n",
       "      <td>1904-01-01</td>\n",
       "      <td>1933-07-06</td>\n",
       "      <td>29.511900</td>\n",
       "    </tr>\n",
       "    <tr>\n",
       "      <th>4</th>\n",
       "      <td>1933</td>\n",
       "      <td>NYA</td>\n",
       "      <td>AL</td>\n",
       "      <td>allenjo02</td>\n",
       "      <td>25</td>\n",
       "      <td>24.0</td>\n",
       "      <td>25</td>\n",
       "      <td>25</td>\n",
       "      <td>25</td>\n",
       "      <td>0</td>\n",
       "      <td>...</td>\n",
       "      <td>1932-04-19</td>\n",
       "      <td>1944-09-26</td>\n",
       "      <td>allej102</td>\n",
       "      <td>allenjo02</td>\n",
       "      <td>1933</td>\n",
       "      <td>7</td>\n",
       "      <td>6</td>\n",
       "      <td>1904-09-30</td>\n",
       "      <td>1933-07-06</td>\n",
       "      <td>28.764451</td>\n",
       "    </tr>\n",
       "  </tbody>\n",
       "</table>\n",
       "<p>5 rows × 50 columns</p>\n",
       "</div>"
      ],
      "text/plain": [
       "   yearID teamID lgID   playerID  G_all     GS  G_batting  G_defense  G_p  \\\n",
       "0    1933    CIN   NL  adamssp01    137  134.0        137        137    0   \n",
       "1    1933    SLN   NL  adamssp01      8    8.0          8          8    0   \n",
       "2    1933    BOS   AL  alexada01     94   75.0         94         78    0   \n",
       "3    1933    SLN   NL  allenet01     91   58.0         91         67    0   \n",
       "4    1933    NYA   AL  allenjo02     25   24.0         25         25   25   \n",
       "\n",
       "   G_c    ...           debut   finalGame   retroID    bbrefID  asgYear  \\\n",
       "0    0    ...      1922-09-18  1934-09-30  adams101  adamssp01     1933   \n",
       "1    0    ...      1922-09-18  1934-09-30  adams101  adamssp01     1933   \n",
       "2    0    ...      1929-04-16  1933-09-23  alexd101  alexada01     1933   \n",
       "3    0    ...      1926-06-13  1938-06-18  allee101  allenet01     1933   \n",
       "4    0    ...      1932-04-19  1944-09-26  allej102  allenjo02     1933   \n",
       "\n",
       "   asgMth  asgDay          date_birth  date_as_game        age  \n",
       "0       7       6 1894-08-26 00:00:00    1933-07-06  38.859114  \n",
       "1       7       6 1894-08-26 00:00:00    1933-07-06  38.859114  \n",
       "2       7       6          1903-04-26    1933-07-06  30.196376  \n",
       "3       7       6          1904-01-01    1933-07-06  29.511900  \n",
       "4       7       6          1904-09-30    1933-07-06  28.764451  \n",
       "\n",
       "[5 rows x 50 columns]"
      ]
     },
     "execution_count": 54,
     "metadata": {},
     "output_type": "execute_result"
    }
   ],
   "source": [
    "allplayer_df.head()"
   ]
  },
  {
   "cell_type": "code",
   "execution_count": 55,
   "metadata": {
    "collapsed": true
   },
   "outputs": [],
   "source": [
    "def plot_two_means_groupby(datalist1, grp1, colname1, name1,\n",
    "                           datalist2, grp2, colname2, name2,\n",
    "                           ptitle, pxlabel, pylabel):\n",
    "    # plot two mean line charts\n",
    "    # datalist1 & datalist2 have data\n",
    "    # grp1 & grp2 is the fields to groupby\n",
    "    # colname1 & colname2 are the field to chart\n",
    "    # name1 and name2 are the legend names\n",
    "    # ptitle is the plot title\n",
    "    # pxlabel is the plot xlabel\n",
    "    # pylabel is the plot ylabel\n",
    "    \n",
    "    datalist1_group = datalist1.groupby(grp1)\n",
    "    datalist2_group = datalist2.groupby(grp2)\n",
    "\n",
    "    data_mean1 = datalist1_group[colname1].mean()\n",
    "    data_mean2 = datalist2_group[colname2].mean()\n",
    "    \n",
    "    plt.plot(data_mean1, label=name1)\n",
    "    plt.plot(data_mean2, label=name2)\n",
    "    plt.title(ptitle)\n",
    "    plt.xlabel(pxlabel)\n",
    "    plt.ylabel(pylabel)\n",
    "    \n",
    "    plt.legend(loc='upper left')\n",
    "    \n",
    "    return None"
   ]
  },
  {
   "cell_type": "code",
   "execution_count": 56,
   "metadata": {},
   "outputs": [
    {
     "data": {
      "image/png": "[encoded data removed]",
      "text/plain": [
       "<matplotlib.figure.Figure at 0xeb6dc50>"
      ]
     },
     "metadata": {},
     "output_type": "display_data"
    }
   ],
   "source": [
    "plot_two_means_groupby(allstar_df, 'yearID', 'age', 'all stars',\n",
    "                       allplayer_df, 'yearID', 'age', 'all players',\n",
    "                       'Chart G: Avg age of all players and all-stars', \n",
    "                       'year', 'age (years)')"
   ]
  },
  {
   "cell_type": "code",
   "execution_count": 57,
   "metadata": {},
   "outputs": [
    {
     "data": {
      "image/png": "[encoded data removed]",
      "text/plain": [
       "<matplotlib.figure.Figure at 0x11fdbf60>"
      ]
     },
     "metadata": {},
     "output_type": "display_data"
    }
   ],
   "source": [
    "plot_two_means_groupby(allstar_df, 'yearID', 'height', 'all stars',\n",
    "                       allplayer_df, 'yearID', 'height', 'all players',\n",
    "                       'Chart H: Avg height of all players and all-stars', \n",
    "                       'year', 'inches')"
   ]
  },
  {
   "cell_type": "code",
   "execution_count": 58,
   "metadata": {},
   "outputs": [
    {
     "data": {
      "image/png": "[encoded data removed]",
      "text/plain": [
       "<matplotlib.figure.Figure at 0xeca29e8>"
      ]
     },
     "metadata": {},
     "output_type": "display_data"
    }
   ],
   "source": [
    "plot_two_means_groupby(allstar_df, 'yearID', 'weight', 'all stars',\n",
    "                       allplayer_df, 'yearID', 'weight', 'all players',\n",
    "                       'Chart H: Avg height of all players and all-stars', \n",
    "                       'year', 'inches')"
   ]
  },
  {
   "cell_type": "markdown",
   "metadata": {},
   "source": [
    "Average age for all-stars have been consistenly higher than for all players by 0 to 1.5 years (chart G).  Since 1980, average all-star players were 29.6 years, or 0.9 years older than all players with the average age of 28.8 years [the 0.1 year difference in the subtraction value is due to a rounding error].  A possible explanation for this may be that young players need time to adjust to the competition and are rather unknwon, so they are often overlooked versus veterans with more experiences and popularities. \n",
    "\n",
    "Average heights have been also higher for all-star players since 2000.  All-stars have averaged 73.9 inches compared to 73.6 inches for all players during this period.  A possible explanation may be taller players may have better physical tools.\n",
    "\n",
    "More recently, weights for all-stars have also been higher.  Since 2000, average weights for all-stars were 212 pounds, or 6 pounds higher than the average for the league."
   ]
  },
  {
   "cell_type": "markdown",
   "metadata": {},
   "source": [
    "Next, I will look at the distribution of all-stars' and all players' age, height and weight.  Since height and weight has drifted over the year, we will focus on only the 2016 season for the distribution."
   ]
  },
  {
   "cell_type": "code",
   "execution_count": 59,
   "metadata": {
    "collapsed": true
   },
   "outputs": [],
   "source": [
    "as_2016 = pd.DataFrame(allstar_df[allstar_df.yearID == 2016], columns=['yearID','age','height','weight']).assign(ptype='All-star')\n",
    "ap_2016 = pd.DataFrame(allplayer_df[allplayer_df.yearID == 2016], columns=['yearID','age','height','weight']).assign(ptype='All players')\n",
    "\n",
    "full_2016 = pd.concat([as_2016, ap_2016])"
   ]
  },
  {
   "cell_type": "code",
   "execution_count": 60,
   "metadata": {
    "collapsed": true
   },
   "outputs": [],
   "source": [
    "def boxplot_players(xtype,ytype,df, pxlabel, pylabel, ptitle):\n",
    "\n",
    "    sns.boxplot(x=xtype, y=ytype, data=df)\n",
    "    plt.xlabel(pxlabel)\n",
    "    plt.ylabel(pylabel)\n",
    "    plt.title(ptitle)\n",
    "    \n",
    "    return None"
   ]
  },
  {
   "cell_type": "code",
   "execution_count": 61,
   "metadata": {},
   "outputs": [
    {
     "data": {
      "image/png": "[encoded data removed]",
      "text/plain": [
       "<matplotlib.figure.Figure at 0xc451f98>"
      ]
     },
     "metadata": {},
     "output_type": "display_data"
    }
   ],
   "source": [
    "boxplot_players('ptype','age',full_2016,'player type','age (yr)',\n",
    "                'Chart I: Boxplot of 2016 players age')"
   ]
  },
  {
   "cell_type": "code",
   "execution_count": 62,
   "metadata": {
    "scrolled": true
   },
   "outputs": [
    {
     "data": {
      "image/png": "[encoded data removed]",
      "text/plain": [
       "<matplotlib.figure.Figure at 0xefbf7b8>"
      ]
     },
     "metadata": {},
     "output_type": "display_data"
    }
   ],
   "source": [
    "boxplot_players('ptype','height',full_2016,'player type','height (in)',\n",
    "                'Chart J: Boxplot of 2016 players height')"
   ]
  },
  {
   "cell_type": "code",
   "execution_count": 63,
   "metadata": {},
   "outputs": [
    {
     "data": {
      "image/png": "[encoded data removed]",
      "text/plain": [
       "<matplotlib.figure.Figure at 0xe74dd30>"
      ]
     },
     "metadata": {},
     "output_type": "display_data"
    }
   ],
   "source": [
    "boxplot_players('ptype','weight',full_2016,'player type','weight (pounds)',\n",
    "                'Chart K: Boxplot of 2016 players weight')"
   ]
  },
  {
   "cell_type": "markdown",
   "metadata": {},
   "source": [
    "Interquartile range of all-star players' age is more compressed than that of the  league (Chart I).  This may be because all-star players tend to be at the prime of their careers, i.e. between 26 and 31 years of age.\n",
    "Boxplot of players' height seem to show similar ranges and interquartile ranges, except that heights of all-star players are slightly taller (Chart J).\n",
    "All-star players' weight were in a smaller range and interquartile range compared to all players (Chart K).\n"
   ]
  },
  {
   "cell_type": "markdown",
   "metadata": {},
   "source": [
    "I also drew relative frequency histograms of the three variables."
   ]
  },
  {
   "cell_type": "code",
   "execution_count": 64,
   "metadata": {
    "collapsed": true
   },
   "outputs": [],
   "source": [
    "def hist_rel_players(ytype,df1, df2, label1, label2, bin, pxlabel, pylabel, ptitle):\n",
    "    \n",
    "    plt.hist(df1[ytype], alpha=0.7, edgecolor='black', bins=bin,normed=True, label=label1)\n",
    "    plt.hist(df2[ytype], alpha=0.5, edgecolor='black', bins=bin,normed=True, label=label2)\n",
    "\n",
    "    plt.xlabel(pxlabel)\n",
    "    plt.ylabel(pylabel)\n",
    "    plt.title(ptitle)\n",
    "    plt.legend(loc='upper left')\n",
    "\n",
    "    return None"
   ]
  },
  {
   "cell_type": "code",
   "execution_count": 65,
   "metadata": {},
   "outputs": [
    {
     "data": {
      "image/png": "[encoded data removed]",
      "text/plain": [
       "<matplotlib.figure.Figure at 0x11b98dd8>"
      ]
     },
     "metadata": {},
     "output_type": "display_data"
    }
   ],
   "source": [
    "hist_rel_players('age',as_2016, ap_2016, 'All-stars', 'All players', numpy.linspace(15,45,13),\n",
    "             'age (years)','relative frequency',\n",
    "                'Chart L: Histogram of 2016 players age')"
   ]
  },
  {
   "cell_type": "code",
   "execution_count": 66,
   "metadata": {},
   "outputs": [
    {
     "data": {
      "image/png": "[encoded data removed]",
      "text/plain": [
       "<matplotlib.figure.Figure at 0xcd90b70>"
      ]
     },
     "metadata": {},
     "output_type": "display_data"
    }
   ],
   "source": [
    "hist_rel_players('height',as_2016, ap_2016, 'All-stars', 'All players', numpy.linspace(65,85,16),\n",
    "                 'height (inches)','relative frequency',\n",
    "                 'Chart M: Histogram of 2016 players height')"
   ]
  },
  {
   "cell_type": "code",
   "execution_count": 67,
   "metadata": {},
   "outputs": [
    {
     "data": {
      "image/png": "[encoded data removed]",
      "text/plain": [
       "<matplotlib.figure.Figure at 0xcc33160>"
      ]
     },
     "metadata": {},
     "output_type": "display_data"
    }
   ],
   "source": [
    "hist_rel_players('weight',as_2016, ap_2016, 'All-stars', 'All players', numpy.linspace(150,300,16),\n",
    "                 'weight (pounds)','relative frequency',\n",
    "                 'Chart N: Histogram of 2016 players weight')"
   ]
  },
  {
   "cell_type": "markdown",
   "metadata": {},
   "source": [
    "The peak of the all-star players age histogram is betwee 30.0 and 32.5 years, while for all-players, it is between 25.0 and 27.5 years (Chart L).  Besides the peak of 30.0-32.5 year range, relative frequencies for all age range below 37.5 years for all-star players are lower than the all players.  However, I found it interesting that relative frequencies for all-star players greater than 37.5 years were higher than all players.  An explanation may be that retiring veterans are being selected to all-star games for their final season.\n",
    "\n",
    "Chart M and Chart N show that relative frequencies tend to be higher in higher bucket for all-stars."
   ]
  },
  {
   "cell_type": "markdown",
   "metadata": {},
   "source": [
    "**CONCLUSION FOR QUESTION 2**\n",
    "\n",
    "Since the inception of the all-star game in 1933, average age of all-star players has been fairly consistent at 29 years.  On average, all-star players tend to be 0.5 years older than all players in the league.  \n",
    "\n",
    "On the other hand, average weight and average height has increased over the years to 74 inches and average weight has jumped to 218 pounds in 2016.  Average age of all-star players were almost 1 year older than average age of all players.  Since 2000, average height of all-stars were 0.3 inches taller and average weight were 6 pounds heavier than all players.  As mentioned above, one limitation of the height and weight data is that there is only one value for a player.  Weight and height of most, if not all, players will fluctuate during the course of their career.  The analysis would have benefitted if the players weight and height were provided for every season."
   ]
  },
  {
   "cell_type": "code",
   "execution_count": null,
   "metadata": {
    "collapsed": true
   },
   "outputs": [],
   "source": []
  }
 ],
 "metadata": {
  "kernelspec": {
   "display_name": "Python [conda root]",
   "language": "python",
   "name": "conda-root-py"
  },
  "language_info": {
   "codemirror_mode": {
    "name": "ipython",
    "version": 2
   },
   "file_extension": ".py",
   "mimetype": "text/x-python",
   "name": "python",
   "nbconvert_exporter": "python",
   "pygments_lexer": "ipython2",
   "version": "2.7.13"
  }
 },
 "nbformat": 4,
 "nbformat_minor": 2
}
